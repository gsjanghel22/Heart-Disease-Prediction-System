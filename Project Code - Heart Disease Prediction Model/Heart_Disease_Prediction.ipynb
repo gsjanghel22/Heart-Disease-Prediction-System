{
  "nbformat": 4,
  "nbformat_minor": 0,
  "metadata": {
    "colab": {
      "name": "Heart Disease Prediction.ipynb",
      "provenance": [],
      "collapsed_sections": []
    },
    "kernelspec": {
      "name": "python3",
      "display_name": "Python 3"
    },
    "language_info": {
      "name": "python"
    }
  },
  "cells": [
    {
      "cell_type": "markdown",
      "source": [
        "# Heart Disease Prediction Using Logistic Regression"
      ],
      "metadata": {
        "id": "COD1OqiuuqOD"
      }
    },
    {
      "cell_type": "markdown",
      "source": [
        "Importing the Dependencies"
      ],
      "metadata": {
        "id": "1wFVVShLpSLT"
      }
    },
    {
      "cell_type": "code",
      "execution_count": 1,
      "metadata": {
        "id": "C7Q741GUowqP"
      },
      "outputs": [],
      "source": [
        "import numpy as np\n",
        "import pandas as pd\n",
        "\n",
        "import plotly.express as px\n",
        "import matplotlib.pyplot as plt\n",
        "from matplotlib import rcParams\n",
        "import seaborn as sns\n",
        "sns.set()\n",
        "%matplotlib inline\n",
        "\n",
        "from sklearn.model_selection import train_test_split\n",
        "from sklearn.linear_model import LogisticRegression\n",
        "from sklearn.metrics import accuracy_score\n",
        "\n",
        "import warnings\n",
        "warnings.filterwarnings('ignore')"
      ]
    },
    {
      "cell_type": "markdown",
      "source": [
        "Data Collection & Processing"
      ],
      "metadata": {
        "id": "n12PwOYKqkQz"
      }
    },
    {
      "cell_type": "code",
      "source": [
        "# loading the csv data to pandas dataframe\n",
        "heart_data = pd.read_csv('/content/heart.csv')"
      ],
      "metadata": {
        "id": "eyQ8QVgNqdmB"
      },
      "execution_count": 2,
      "outputs": []
    },
    {
      "cell_type": "code",
      "source": [
        "# printing first 5 rows of the data set\n",
        "heart_data.head()"
      ],
      "metadata": {
        "colab": {
          "base_uri": "https://localhost:8080/",
          "height": 206
        },
        "id": "eR1mon19rIPz",
        "outputId": "d3ac46fc-ce85-434c-9c77-d3bc4920e4a9"
      },
      "execution_count": 3,
      "outputs": [
        {
          "output_type": "execute_result",
          "data": {
            "text/plain": [
              "   age  sex  cp  trestbps  chol  fbs  restecg  thalach  exang  oldpeak  slope  \\\n",
              "0   52    1   0       125   212    0        1      168      0      1.0      2   \n",
              "1   53    1   0       140   203    1        0      155      1      3.1      0   \n",
              "2   70    1   0       145   174    0        1      125      1      2.6      0   \n",
              "3   61    1   0       148   203    0        1      161      0      0.0      2   \n",
              "4   62    0   0       138   294    1        1      106      0      1.9      1   \n",
              "\n",
              "   ca  thal  target  \n",
              "0   2     3       0  \n",
              "1   0     3       0  \n",
              "2   0     3       0  \n",
              "3   1     3       0  \n",
              "4   3     2       0  "
            ],
            "text/html": [
              "\n",
              "  <div id=\"df-8a184366-9f60-4fdb-8200-f4c3a88bb5e3\">\n",
              "    <div class=\"colab-df-container\">\n",
              "      <div>\n",
              "<style scoped>\n",
              "    .dataframe tbody tr th:only-of-type {\n",
              "        vertical-align: middle;\n",
              "    }\n",
              "\n",
              "    .dataframe tbody tr th {\n",
              "        vertical-align: top;\n",
              "    }\n",
              "\n",
              "    .dataframe thead th {\n",
              "        text-align: right;\n",
              "    }\n",
              "</style>\n",
              "<table border=\"1\" class=\"dataframe\">\n",
              "  <thead>\n",
              "    <tr style=\"text-align: right;\">\n",
              "      <th></th>\n",
              "      <th>age</th>\n",
              "      <th>sex</th>\n",
              "      <th>cp</th>\n",
              "      <th>trestbps</th>\n",
              "      <th>chol</th>\n",
              "      <th>fbs</th>\n",
              "      <th>restecg</th>\n",
              "      <th>thalach</th>\n",
              "      <th>exang</th>\n",
              "      <th>oldpeak</th>\n",
              "      <th>slope</th>\n",
              "      <th>ca</th>\n",
              "      <th>thal</th>\n",
              "      <th>target</th>\n",
              "    </tr>\n",
              "  </thead>\n",
              "  <tbody>\n",
              "    <tr>\n",
              "      <th>0</th>\n",
              "      <td>52</td>\n",
              "      <td>1</td>\n",
              "      <td>0</td>\n",
              "      <td>125</td>\n",
              "      <td>212</td>\n",
              "      <td>0</td>\n",
              "      <td>1</td>\n",
              "      <td>168</td>\n",
              "      <td>0</td>\n",
              "      <td>1.0</td>\n",
              "      <td>2</td>\n",
              "      <td>2</td>\n",
              "      <td>3</td>\n",
              "      <td>0</td>\n",
              "    </tr>\n",
              "    <tr>\n",
              "      <th>1</th>\n",
              "      <td>53</td>\n",
              "      <td>1</td>\n",
              "      <td>0</td>\n",
              "      <td>140</td>\n",
              "      <td>203</td>\n",
              "      <td>1</td>\n",
              "      <td>0</td>\n",
              "      <td>155</td>\n",
              "      <td>1</td>\n",
              "      <td>3.1</td>\n",
              "      <td>0</td>\n",
              "      <td>0</td>\n",
              "      <td>3</td>\n",
              "      <td>0</td>\n",
              "    </tr>\n",
              "    <tr>\n",
              "      <th>2</th>\n",
              "      <td>70</td>\n",
              "      <td>1</td>\n",
              "      <td>0</td>\n",
              "      <td>145</td>\n",
              "      <td>174</td>\n",
              "      <td>0</td>\n",
              "      <td>1</td>\n",
              "      <td>125</td>\n",
              "      <td>1</td>\n",
              "      <td>2.6</td>\n",
              "      <td>0</td>\n",
              "      <td>0</td>\n",
              "      <td>3</td>\n",
              "      <td>0</td>\n",
              "    </tr>\n",
              "    <tr>\n",
              "      <th>3</th>\n",
              "      <td>61</td>\n",
              "      <td>1</td>\n",
              "      <td>0</td>\n",
              "      <td>148</td>\n",
              "      <td>203</td>\n",
              "      <td>0</td>\n",
              "      <td>1</td>\n",
              "      <td>161</td>\n",
              "      <td>0</td>\n",
              "      <td>0.0</td>\n",
              "      <td>2</td>\n",
              "      <td>1</td>\n",
              "      <td>3</td>\n",
              "      <td>0</td>\n",
              "    </tr>\n",
              "    <tr>\n",
              "      <th>4</th>\n",
              "      <td>62</td>\n",
              "      <td>0</td>\n",
              "      <td>0</td>\n",
              "      <td>138</td>\n",
              "      <td>294</td>\n",
              "      <td>1</td>\n",
              "      <td>1</td>\n",
              "      <td>106</td>\n",
              "      <td>0</td>\n",
              "      <td>1.9</td>\n",
              "      <td>1</td>\n",
              "      <td>3</td>\n",
              "      <td>2</td>\n",
              "      <td>0</td>\n",
              "    </tr>\n",
              "  </tbody>\n",
              "</table>\n",
              "</div>\n",
              "      <button class=\"colab-df-convert\" onclick=\"convertToInteractive('df-8a184366-9f60-4fdb-8200-f4c3a88bb5e3')\"\n",
              "              title=\"Convert this dataframe to an interactive table.\"\n",
              "              style=\"display:none;\">\n",
              "        \n",
              "  <svg xmlns=\"http://www.w3.org/2000/svg\" height=\"24px\"viewBox=\"0 0 24 24\"\n",
              "       width=\"24px\">\n",
              "    <path d=\"M0 0h24v24H0V0z\" fill=\"none\"/>\n",
              "    <path d=\"M18.56 5.44l.94 2.06.94-2.06 2.06-.94-2.06-.94-.94-2.06-.94 2.06-2.06.94zm-11 1L8.5 8.5l.94-2.06 2.06-.94-2.06-.94L8.5 2.5l-.94 2.06-2.06.94zm10 10l.94 2.06.94-2.06 2.06-.94-2.06-.94-.94-2.06-.94 2.06-2.06.94z\"/><path d=\"M17.41 7.96l-1.37-1.37c-.4-.4-.92-.59-1.43-.59-.52 0-1.04.2-1.43.59L10.3 9.45l-7.72 7.72c-.78.78-.78 2.05 0 2.83L4 21.41c.39.39.9.59 1.41.59.51 0 1.02-.2 1.41-.59l7.78-7.78 2.81-2.81c.8-.78.8-2.07 0-2.86zM5.41 20L4 18.59l7.72-7.72 1.47 1.35L5.41 20z\"/>\n",
              "  </svg>\n",
              "      </button>\n",
              "      \n",
              "  <style>\n",
              "    .colab-df-container {\n",
              "      display:flex;\n",
              "      flex-wrap:wrap;\n",
              "      gap: 12px;\n",
              "    }\n",
              "\n",
              "    .colab-df-convert {\n",
              "      background-color: #E8F0FE;\n",
              "      border: none;\n",
              "      border-radius: 50%;\n",
              "      cursor: pointer;\n",
              "      display: none;\n",
              "      fill: #1967D2;\n",
              "      height: 32px;\n",
              "      padding: 0 0 0 0;\n",
              "      width: 32px;\n",
              "    }\n",
              "\n",
              "    .colab-df-convert:hover {\n",
              "      background-color: #E2EBFA;\n",
              "      box-shadow: 0px 1px 2px rgba(60, 64, 67, 0.3), 0px 1px 3px 1px rgba(60, 64, 67, 0.15);\n",
              "      fill: #174EA6;\n",
              "    }\n",
              "\n",
              "    [theme=dark] .colab-df-convert {\n",
              "      background-color: #3B4455;\n",
              "      fill: #D2E3FC;\n",
              "    }\n",
              "\n",
              "    [theme=dark] .colab-df-convert:hover {\n",
              "      background-color: #434B5C;\n",
              "      box-shadow: 0px 1px 3px 1px rgba(0, 0, 0, 0.15);\n",
              "      filter: drop-shadow(0px 1px 2px rgba(0, 0, 0, 0.3));\n",
              "      fill: #FFFFFF;\n",
              "    }\n",
              "  </style>\n",
              "\n",
              "      <script>\n",
              "        const buttonEl =\n",
              "          document.querySelector('#df-8a184366-9f60-4fdb-8200-f4c3a88bb5e3 button.colab-df-convert');\n",
              "        buttonEl.style.display =\n",
              "          google.colab.kernel.accessAllowed ? 'block' : 'none';\n",
              "\n",
              "        async function convertToInteractive(key) {\n",
              "          const element = document.querySelector('#df-8a184366-9f60-4fdb-8200-f4c3a88bb5e3');\n",
              "          const dataTable =\n",
              "            await google.colab.kernel.invokeFunction('convertToInteractive',\n",
              "                                                     [key], {});\n",
              "          if (!dataTable) return;\n",
              "\n",
              "          const docLinkHtml = 'Like what you see? Visit the ' +\n",
              "            '<a target=\"_blank\" href=https://colab.research.google.com/notebooks/data_table.ipynb>data table notebook</a>'\n",
              "            + ' to learn more about interactive tables.';\n",
              "          element.innerHTML = '';\n",
              "          dataTable['output_type'] = 'display_data';\n",
              "          await google.colab.output.renderOutput(dataTable, element);\n",
              "          const docLink = document.createElement('div');\n",
              "          docLink.innerHTML = docLinkHtml;\n",
              "          element.appendChild(docLink);\n",
              "        }\n",
              "      </script>\n",
              "    </div>\n",
              "  </div>\n",
              "  "
            ]
          },
          "metadata": {},
          "execution_count": 3
        }
      ]
    },
    {
      "cell_type": "code",
      "source": [
        "# printing last 5 rows of the data set\n",
        "heart_data.tail()"
      ],
      "metadata": {
        "colab": {
          "base_uri": "https://localhost:8080/",
          "height": 206
        },
        "id": "GiKFXRzurcMp",
        "outputId": "a2bfa521-0ac1-420e-f4da-3210ec61bbb8"
      },
      "execution_count": 4,
      "outputs": [
        {
          "output_type": "execute_result",
          "data": {
            "text/plain": [
              "      age  sex  cp  trestbps  chol  fbs  restecg  thalach  exang  oldpeak  \\\n",
              "1020   59    1   1       140   221    0        1      164      1      0.0   \n",
              "1021   60    1   0       125   258    0        0      141      1      2.8   \n",
              "1022   47    1   0       110   275    0        0      118      1      1.0   \n",
              "1023   50    0   0       110   254    0        0      159      0      0.0   \n",
              "1024   54    1   0       120   188    0        1      113      0      1.4   \n",
              "\n",
              "      slope  ca  thal  target  \n",
              "1020      2   0     2       1  \n",
              "1021      1   1     3       0  \n",
              "1022      1   1     2       0  \n",
              "1023      2   0     2       1  \n",
              "1024      1   1     3       0  "
            ],
            "text/html": [
              "\n",
              "  <div id=\"df-57144f17-6882-4c6e-b826-141e670eb59e\">\n",
              "    <div class=\"colab-df-container\">\n",
              "      <div>\n",
              "<style scoped>\n",
              "    .dataframe tbody tr th:only-of-type {\n",
              "        vertical-align: middle;\n",
              "    }\n",
              "\n",
              "    .dataframe tbody tr th {\n",
              "        vertical-align: top;\n",
              "    }\n",
              "\n",
              "    .dataframe thead th {\n",
              "        text-align: right;\n",
              "    }\n",
              "</style>\n",
              "<table border=\"1\" class=\"dataframe\">\n",
              "  <thead>\n",
              "    <tr style=\"text-align: right;\">\n",
              "      <th></th>\n",
              "      <th>age</th>\n",
              "      <th>sex</th>\n",
              "      <th>cp</th>\n",
              "      <th>trestbps</th>\n",
              "      <th>chol</th>\n",
              "      <th>fbs</th>\n",
              "      <th>restecg</th>\n",
              "      <th>thalach</th>\n",
              "      <th>exang</th>\n",
              "      <th>oldpeak</th>\n",
              "      <th>slope</th>\n",
              "      <th>ca</th>\n",
              "      <th>thal</th>\n",
              "      <th>target</th>\n",
              "    </tr>\n",
              "  </thead>\n",
              "  <tbody>\n",
              "    <tr>\n",
              "      <th>1020</th>\n",
              "      <td>59</td>\n",
              "      <td>1</td>\n",
              "      <td>1</td>\n",
              "      <td>140</td>\n",
              "      <td>221</td>\n",
              "      <td>0</td>\n",
              "      <td>1</td>\n",
              "      <td>164</td>\n",
              "      <td>1</td>\n",
              "      <td>0.0</td>\n",
              "      <td>2</td>\n",
              "      <td>0</td>\n",
              "      <td>2</td>\n",
              "      <td>1</td>\n",
              "    </tr>\n",
              "    <tr>\n",
              "      <th>1021</th>\n",
              "      <td>60</td>\n",
              "      <td>1</td>\n",
              "      <td>0</td>\n",
              "      <td>125</td>\n",
              "      <td>258</td>\n",
              "      <td>0</td>\n",
              "      <td>0</td>\n",
              "      <td>141</td>\n",
              "      <td>1</td>\n",
              "      <td>2.8</td>\n",
              "      <td>1</td>\n",
              "      <td>1</td>\n",
              "      <td>3</td>\n",
              "      <td>0</td>\n",
              "    </tr>\n",
              "    <tr>\n",
              "      <th>1022</th>\n",
              "      <td>47</td>\n",
              "      <td>1</td>\n",
              "      <td>0</td>\n",
              "      <td>110</td>\n",
              "      <td>275</td>\n",
              "      <td>0</td>\n",
              "      <td>0</td>\n",
              "      <td>118</td>\n",
              "      <td>1</td>\n",
              "      <td>1.0</td>\n",
              "      <td>1</td>\n",
              "      <td>1</td>\n",
              "      <td>2</td>\n",
              "      <td>0</td>\n",
              "    </tr>\n",
              "    <tr>\n",
              "      <th>1023</th>\n",
              "      <td>50</td>\n",
              "      <td>0</td>\n",
              "      <td>0</td>\n",
              "      <td>110</td>\n",
              "      <td>254</td>\n",
              "      <td>0</td>\n",
              "      <td>0</td>\n",
              "      <td>159</td>\n",
              "      <td>0</td>\n",
              "      <td>0.0</td>\n",
              "      <td>2</td>\n",
              "      <td>0</td>\n",
              "      <td>2</td>\n",
              "      <td>1</td>\n",
              "    </tr>\n",
              "    <tr>\n",
              "      <th>1024</th>\n",
              "      <td>54</td>\n",
              "      <td>1</td>\n",
              "      <td>0</td>\n",
              "      <td>120</td>\n",
              "      <td>188</td>\n",
              "      <td>0</td>\n",
              "      <td>1</td>\n",
              "      <td>113</td>\n",
              "      <td>0</td>\n",
              "      <td>1.4</td>\n",
              "      <td>1</td>\n",
              "      <td>1</td>\n",
              "      <td>3</td>\n",
              "      <td>0</td>\n",
              "    </tr>\n",
              "  </tbody>\n",
              "</table>\n",
              "</div>\n",
              "      <button class=\"colab-df-convert\" onclick=\"convertToInteractive('df-57144f17-6882-4c6e-b826-141e670eb59e')\"\n",
              "              title=\"Convert this dataframe to an interactive table.\"\n",
              "              style=\"display:none;\">\n",
              "        \n",
              "  <svg xmlns=\"http://www.w3.org/2000/svg\" height=\"24px\"viewBox=\"0 0 24 24\"\n",
              "       width=\"24px\">\n",
              "    <path d=\"M0 0h24v24H0V0z\" fill=\"none\"/>\n",
              "    <path d=\"M18.56 5.44l.94 2.06.94-2.06 2.06-.94-2.06-.94-.94-2.06-.94 2.06-2.06.94zm-11 1L8.5 8.5l.94-2.06 2.06-.94-2.06-.94L8.5 2.5l-.94 2.06-2.06.94zm10 10l.94 2.06.94-2.06 2.06-.94-2.06-.94-.94-2.06-.94 2.06-2.06.94z\"/><path d=\"M17.41 7.96l-1.37-1.37c-.4-.4-.92-.59-1.43-.59-.52 0-1.04.2-1.43.59L10.3 9.45l-7.72 7.72c-.78.78-.78 2.05 0 2.83L4 21.41c.39.39.9.59 1.41.59.51 0 1.02-.2 1.41-.59l7.78-7.78 2.81-2.81c.8-.78.8-2.07 0-2.86zM5.41 20L4 18.59l7.72-7.72 1.47 1.35L5.41 20z\"/>\n",
              "  </svg>\n",
              "      </button>\n",
              "      \n",
              "  <style>\n",
              "    .colab-df-container {\n",
              "      display:flex;\n",
              "      flex-wrap:wrap;\n",
              "      gap: 12px;\n",
              "    }\n",
              "\n",
              "    .colab-df-convert {\n",
              "      background-color: #E8F0FE;\n",
              "      border: none;\n",
              "      border-radius: 50%;\n",
              "      cursor: pointer;\n",
              "      display: none;\n",
              "      fill: #1967D2;\n",
              "      height: 32px;\n",
              "      padding: 0 0 0 0;\n",
              "      width: 32px;\n",
              "    }\n",
              "\n",
              "    .colab-df-convert:hover {\n",
              "      background-color: #E2EBFA;\n",
              "      box-shadow: 0px 1px 2px rgba(60, 64, 67, 0.3), 0px 1px 3px 1px rgba(60, 64, 67, 0.15);\n",
              "      fill: #174EA6;\n",
              "    }\n",
              "\n",
              "    [theme=dark] .colab-df-convert {\n",
              "      background-color: #3B4455;\n",
              "      fill: #D2E3FC;\n",
              "    }\n",
              "\n",
              "    [theme=dark] .colab-df-convert:hover {\n",
              "      background-color: #434B5C;\n",
              "      box-shadow: 0px 1px 3px 1px rgba(0, 0, 0, 0.15);\n",
              "      filter: drop-shadow(0px 1px 2px rgba(0, 0, 0, 0.3));\n",
              "      fill: #FFFFFF;\n",
              "    }\n",
              "  </style>\n",
              "\n",
              "      <script>\n",
              "        const buttonEl =\n",
              "          document.querySelector('#df-57144f17-6882-4c6e-b826-141e670eb59e button.colab-df-convert');\n",
              "        buttonEl.style.display =\n",
              "          google.colab.kernel.accessAllowed ? 'block' : 'none';\n",
              "\n",
              "        async function convertToInteractive(key) {\n",
              "          const element = document.querySelector('#df-57144f17-6882-4c6e-b826-141e670eb59e');\n",
              "          const dataTable =\n",
              "            await google.colab.kernel.invokeFunction('convertToInteractive',\n",
              "                                                     [key], {});\n",
              "          if (!dataTable) return;\n",
              "\n",
              "          const docLinkHtml = 'Like what you see? Visit the ' +\n",
              "            '<a target=\"_blank\" href=https://colab.research.google.com/notebooks/data_table.ipynb>data table notebook</a>'\n",
              "            + ' to learn more about interactive tables.';\n",
              "          element.innerHTML = '';\n",
              "          dataTable['output_type'] = 'display_data';\n",
              "          await google.colab.output.renderOutput(dataTable, element);\n",
              "          const docLink = document.createElement('div');\n",
              "          docLink.innerHTML = docLinkHtml;\n",
              "          element.appendChild(docLink);\n",
              "        }\n",
              "      </script>\n",
              "    </div>\n",
              "  </div>\n",
              "  "
            ]
          },
          "metadata": {},
          "execution_count": 4
        }
      ]
    },
    {
      "cell_type": "code",
      "source": [
        "# number of rows and columns in the dataset\n",
        "heart_data.shape"
      ],
      "metadata": {
        "colab": {
          "base_uri": "https://localhost:8080/"
        },
        "id": "hGoKvtQUrrLQ",
        "outputId": "989e08bc-fee5-451b-c224-42fe3c6106bd"
      },
      "execution_count": 5,
      "outputs": [
        {
          "output_type": "execute_result",
          "data": {
            "text/plain": [
              "(1025, 14)"
            ]
          },
          "metadata": {},
          "execution_count": 5
        }
      ]
    },
    {
      "cell_type": "code",
      "source": [
        "# getting some information about the data\n",
        "heart_data.info()"
      ],
      "metadata": {
        "colab": {
          "base_uri": "https://localhost:8080/"
        },
        "id": "_YUqzlGir5A6",
        "outputId": "7b1f0b14-ce22-45f3-fc55-b448a4784b16"
      },
      "execution_count": 6,
      "outputs": [
        {
          "output_type": "stream",
          "name": "stdout",
          "text": [
            "<class 'pandas.core.frame.DataFrame'>\n",
            "RangeIndex: 1025 entries, 0 to 1024\n",
            "Data columns (total 14 columns):\n",
            " #   Column    Non-Null Count  Dtype  \n",
            "---  ------    --------------  -----  \n",
            " 0   age       1025 non-null   int64  \n",
            " 1   sex       1025 non-null   int64  \n",
            " 2   cp        1025 non-null   int64  \n",
            " 3   trestbps  1025 non-null   int64  \n",
            " 4   chol      1025 non-null   int64  \n",
            " 5   fbs       1025 non-null   int64  \n",
            " 6   restecg   1025 non-null   int64  \n",
            " 7   thalach   1025 non-null   int64  \n",
            " 8   exang     1025 non-null   int64  \n",
            " 9   oldpeak   1025 non-null   float64\n",
            " 10  slope     1025 non-null   int64  \n",
            " 11  ca        1025 non-null   int64  \n",
            " 12  thal      1025 non-null   int64  \n",
            " 13  target    1025 non-null   int64  \n",
            "dtypes: float64(1), int64(13)\n",
            "memory usage: 112.2 KB\n"
          ]
        }
      ]
    },
    {
      "cell_type": "code",
      "source": [
        "# checking for the missing values\n",
        "heart_data.isnull().sum()"
      ],
      "metadata": {
        "colab": {
          "base_uri": "https://localhost:8080/"
        },
        "id": "1OZsDXpJJPdW",
        "outputId": "26b846a8-df16-4969-d427-fbd6336c8c48"
      },
      "execution_count": 7,
      "outputs": [
        {
          "output_type": "execute_result",
          "data": {
            "text/plain": [
              "age         0\n",
              "sex         0\n",
              "cp          0\n",
              "trestbps    0\n",
              "chol        0\n",
              "fbs         0\n",
              "restecg     0\n",
              "thalach     0\n",
              "exang       0\n",
              "oldpeak     0\n",
              "slope       0\n",
              "ca          0\n",
              "thal        0\n",
              "target      0\n",
              "dtype: int64"
            ]
          },
          "metadata": {},
          "execution_count": 7
        }
      ]
    },
    {
      "cell_type": "code",
      "source": [
        "# statistical measures of the data\n",
        "heart_data.describe()"
      ],
      "metadata": {
        "colab": {
          "base_uri": "https://localhost:8080/",
          "height": 364
        },
        "id": "VPOHIaHoJqmp",
        "outputId": "ba4a3330-974f-491b-a2dc-e4fe913a5838"
      },
      "execution_count": 8,
      "outputs": [
        {
          "output_type": "execute_result",
          "data": {
            "text/plain": [
              "               age          sex           cp     trestbps        chol  \\\n",
              "count  1025.000000  1025.000000  1025.000000  1025.000000  1025.00000   \n",
              "mean     54.434146     0.695610     0.942439   131.611707   246.00000   \n",
              "std       9.072290     0.460373     1.029641    17.516718    51.59251   \n",
              "min      29.000000     0.000000     0.000000    94.000000   126.00000   \n",
              "25%      48.000000     0.000000     0.000000   120.000000   211.00000   \n",
              "50%      56.000000     1.000000     1.000000   130.000000   240.00000   \n",
              "75%      61.000000     1.000000     2.000000   140.000000   275.00000   \n",
              "max      77.000000     1.000000     3.000000   200.000000   564.00000   \n",
              "\n",
              "               fbs      restecg      thalach        exang      oldpeak  \\\n",
              "count  1025.000000  1025.000000  1025.000000  1025.000000  1025.000000   \n",
              "mean      0.149268     0.529756   149.114146     0.336585     1.071512   \n",
              "std       0.356527     0.527878    23.005724     0.472772     1.175053   \n",
              "min       0.000000     0.000000    71.000000     0.000000     0.000000   \n",
              "25%       0.000000     0.000000   132.000000     0.000000     0.000000   \n",
              "50%       0.000000     1.000000   152.000000     0.000000     0.800000   \n",
              "75%       0.000000     1.000000   166.000000     1.000000     1.800000   \n",
              "max       1.000000     2.000000   202.000000     1.000000     6.200000   \n",
              "\n",
              "             slope           ca         thal       target  \n",
              "count  1025.000000  1025.000000  1025.000000  1025.000000  \n",
              "mean      1.385366     0.754146     2.323902     0.513171  \n",
              "std       0.617755     1.030798     0.620660     0.500070  \n",
              "min       0.000000     0.000000     0.000000     0.000000  \n",
              "25%       1.000000     0.000000     2.000000     0.000000  \n",
              "50%       1.000000     0.000000     2.000000     1.000000  \n",
              "75%       2.000000     1.000000     3.000000     1.000000  \n",
              "max       2.000000     4.000000     3.000000     1.000000  "
            ],
            "text/html": [
              "\n",
              "  <div id=\"df-e1919358-3edc-433f-a220-b15e8a65c3e1\">\n",
              "    <div class=\"colab-df-container\">\n",
              "      <div>\n",
              "<style scoped>\n",
              "    .dataframe tbody tr th:only-of-type {\n",
              "        vertical-align: middle;\n",
              "    }\n",
              "\n",
              "    .dataframe tbody tr th {\n",
              "        vertical-align: top;\n",
              "    }\n",
              "\n",
              "    .dataframe thead th {\n",
              "        text-align: right;\n",
              "    }\n",
              "</style>\n",
              "<table border=\"1\" class=\"dataframe\">\n",
              "  <thead>\n",
              "    <tr style=\"text-align: right;\">\n",
              "      <th></th>\n",
              "      <th>age</th>\n",
              "      <th>sex</th>\n",
              "      <th>cp</th>\n",
              "      <th>trestbps</th>\n",
              "      <th>chol</th>\n",
              "      <th>fbs</th>\n",
              "      <th>restecg</th>\n",
              "      <th>thalach</th>\n",
              "      <th>exang</th>\n",
              "      <th>oldpeak</th>\n",
              "      <th>slope</th>\n",
              "      <th>ca</th>\n",
              "      <th>thal</th>\n",
              "      <th>target</th>\n",
              "    </tr>\n",
              "  </thead>\n",
              "  <tbody>\n",
              "    <tr>\n",
              "      <th>count</th>\n",
              "      <td>1025.000000</td>\n",
              "      <td>1025.000000</td>\n",
              "      <td>1025.000000</td>\n",
              "      <td>1025.000000</td>\n",
              "      <td>1025.00000</td>\n",
              "      <td>1025.000000</td>\n",
              "      <td>1025.000000</td>\n",
              "      <td>1025.000000</td>\n",
              "      <td>1025.000000</td>\n",
              "      <td>1025.000000</td>\n",
              "      <td>1025.000000</td>\n",
              "      <td>1025.000000</td>\n",
              "      <td>1025.000000</td>\n",
              "      <td>1025.000000</td>\n",
              "    </tr>\n",
              "    <tr>\n",
              "      <th>mean</th>\n",
              "      <td>54.434146</td>\n",
              "      <td>0.695610</td>\n",
              "      <td>0.942439</td>\n",
              "      <td>131.611707</td>\n",
              "      <td>246.00000</td>\n",
              "      <td>0.149268</td>\n",
              "      <td>0.529756</td>\n",
              "      <td>149.114146</td>\n",
              "      <td>0.336585</td>\n",
              "      <td>1.071512</td>\n",
              "      <td>1.385366</td>\n",
              "      <td>0.754146</td>\n",
              "      <td>2.323902</td>\n",
              "      <td>0.513171</td>\n",
              "    </tr>\n",
              "    <tr>\n",
              "      <th>std</th>\n",
              "      <td>9.072290</td>\n",
              "      <td>0.460373</td>\n",
              "      <td>1.029641</td>\n",
              "      <td>17.516718</td>\n",
              "      <td>51.59251</td>\n",
              "      <td>0.356527</td>\n",
              "      <td>0.527878</td>\n",
              "      <td>23.005724</td>\n",
              "      <td>0.472772</td>\n",
              "      <td>1.175053</td>\n",
              "      <td>0.617755</td>\n",
              "      <td>1.030798</td>\n",
              "      <td>0.620660</td>\n",
              "      <td>0.500070</td>\n",
              "    </tr>\n",
              "    <tr>\n",
              "      <th>min</th>\n",
              "      <td>29.000000</td>\n",
              "      <td>0.000000</td>\n",
              "      <td>0.000000</td>\n",
              "      <td>94.000000</td>\n",
              "      <td>126.00000</td>\n",
              "      <td>0.000000</td>\n",
              "      <td>0.000000</td>\n",
              "      <td>71.000000</td>\n",
              "      <td>0.000000</td>\n",
              "      <td>0.000000</td>\n",
              "      <td>0.000000</td>\n",
              "      <td>0.000000</td>\n",
              "      <td>0.000000</td>\n",
              "      <td>0.000000</td>\n",
              "    </tr>\n",
              "    <tr>\n",
              "      <th>25%</th>\n",
              "      <td>48.000000</td>\n",
              "      <td>0.000000</td>\n",
              "      <td>0.000000</td>\n",
              "      <td>120.000000</td>\n",
              "      <td>211.00000</td>\n",
              "      <td>0.000000</td>\n",
              "      <td>0.000000</td>\n",
              "      <td>132.000000</td>\n",
              "      <td>0.000000</td>\n",
              "      <td>0.000000</td>\n",
              "      <td>1.000000</td>\n",
              "      <td>0.000000</td>\n",
              "      <td>2.000000</td>\n",
              "      <td>0.000000</td>\n",
              "    </tr>\n",
              "    <tr>\n",
              "      <th>50%</th>\n",
              "      <td>56.000000</td>\n",
              "      <td>1.000000</td>\n",
              "      <td>1.000000</td>\n",
              "      <td>130.000000</td>\n",
              "      <td>240.00000</td>\n",
              "      <td>0.000000</td>\n",
              "      <td>1.000000</td>\n",
              "      <td>152.000000</td>\n",
              "      <td>0.000000</td>\n",
              "      <td>0.800000</td>\n",
              "      <td>1.000000</td>\n",
              "      <td>0.000000</td>\n",
              "      <td>2.000000</td>\n",
              "      <td>1.000000</td>\n",
              "    </tr>\n",
              "    <tr>\n",
              "      <th>75%</th>\n",
              "      <td>61.000000</td>\n",
              "      <td>1.000000</td>\n",
              "      <td>2.000000</td>\n",
              "      <td>140.000000</td>\n",
              "      <td>275.00000</td>\n",
              "      <td>0.000000</td>\n",
              "      <td>1.000000</td>\n",
              "      <td>166.000000</td>\n",
              "      <td>1.000000</td>\n",
              "      <td>1.800000</td>\n",
              "      <td>2.000000</td>\n",
              "      <td>1.000000</td>\n",
              "      <td>3.000000</td>\n",
              "      <td>1.000000</td>\n",
              "    </tr>\n",
              "    <tr>\n",
              "      <th>max</th>\n",
              "      <td>77.000000</td>\n",
              "      <td>1.000000</td>\n",
              "      <td>3.000000</td>\n",
              "      <td>200.000000</td>\n",
              "      <td>564.00000</td>\n",
              "      <td>1.000000</td>\n",
              "      <td>2.000000</td>\n",
              "      <td>202.000000</td>\n",
              "      <td>1.000000</td>\n",
              "      <td>6.200000</td>\n",
              "      <td>2.000000</td>\n",
              "      <td>4.000000</td>\n",
              "      <td>3.000000</td>\n",
              "      <td>1.000000</td>\n",
              "    </tr>\n",
              "  </tbody>\n",
              "</table>\n",
              "</div>\n",
              "      <button class=\"colab-df-convert\" onclick=\"convertToInteractive('df-e1919358-3edc-433f-a220-b15e8a65c3e1')\"\n",
              "              title=\"Convert this dataframe to an interactive table.\"\n",
              "              style=\"display:none;\">\n",
              "        \n",
              "  <svg xmlns=\"http://www.w3.org/2000/svg\" height=\"24px\"viewBox=\"0 0 24 24\"\n",
              "       width=\"24px\">\n",
              "    <path d=\"M0 0h24v24H0V0z\" fill=\"none\"/>\n",
              "    <path d=\"M18.56 5.44l.94 2.06.94-2.06 2.06-.94-2.06-.94-.94-2.06-.94 2.06-2.06.94zm-11 1L8.5 8.5l.94-2.06 2.06-.94-2.06-.94L8.5 2.5l-.94 2.06-2.06.94zm10 10l.94 2.06.94-2.06 2.06-.94-2.06-.94-.94-2.06-.94 2.06-2.06.94z\"/><path d=\"M17.41 7.96l-1.37-1.37c-.4-.4-.92-.59-1.43-.59-.52 0-1.04.2-1.43.59L10.3 9.45l-7.72 7.72c-.78.78-.78 2.05 0 2.83L4 21.41c.39.39.9.59 1.41.59.51 0 1.02-.2 1.41-.59l7.78-7.78 2.81-2.81c.8-.78.8-2.07 0-2.86zM5.41 20L4 18.59l7.72-7.72 1.47 1.35L5.41 20z\"/>\n",
              "  </svg>\n",
              "      </button>\n",
              "      \n",
              "  <style>\n",
              "    .colab-df-container {\n",
              "      display:flex;\n",
              "      flex-wrap:wrap;\n",
              "      gap: 12px;\n",
              "    }\n",
              "\n",
              "    .colab-df-convert {\n",
              "      background-color: #E8F0FE;\n",
              "      border: none;\n",
              "      border-radius: 50%;\n",
              "      cursor: pointer;\n",
              "      display: none;\n",
              "      fill: #1967D2;\n",
              "      height: 32px;\n",
              "      padding: 0 0 0 0;\n",
              "      width: 32px;\n",
              "    }\n",
              "\n",
              "    .colab-df-convert:hover {\n",
              "      background-color: #E2EBFA;\n",
              "      box-shadow: 0px 1px 2px rgba(60, 64, 67, 0.3), 0px 1px 3px 1px rgba(60, 64, 67, 0.15);\n",
              "      fill: #174EA6;\n",
              "    }\n",
              "\n",
              "    [theme=dark] .colab-df-convert {\n",
              "      background-color: #3B4455;\n",
              "      fill: #D2E3FC;\n",
              "    }\n",
              "\n",
              "    [theme=dark] .colab-df-convert:hover {\n",
              "      background-color: #434B5C;\n",
              "      box-shadow: 0px 1px 3px 1px rgba(0, 0, 0, 0.15);\n",
              "      filter: drop-shadow(0px 1px 2px rgba(0, 0, 0, 0.3));\n",
              "      fill: #FFFFFF;\n",
              "    }\n",
              "  </style>\n",
              "\n",
              "      <script>\n",
              "        const buttonEl =\n",
              "          document.querySelector('#df-e1919358-3edc-433f-a220-b15e8a65c3e1 button.colab-df-convert');\n",
              "        buttonEl.style.display =\n",
              "          google.colab.kernel.accessAllowed ? 'block' : 'none';\n",
              "\n",
              "        async function convertToInteractive(key) {\n",
              "          const element = document.querySelector('#df-e1919358-3edc-433f-a220-b15e8a65c3e1');\n",
              "          const dataTable =\n",
              "            await google.colab.kernel.invokeFunction('convertToInteractive',\n",
              "                                                     [key], {});\n",
              "          if (!dataTable) return;\n",
              "\n",
              "          const docLinkHtml = 'Like what you see? Visit the ' +\n",
              "            '<a target=\"_blank\" href=https://colab.research.google.com/notebooks/data_table.ipynb>data table notebook</a>'\n",
              "            + ' to learn more about interactive tables.';\n",
              "          element.innerHTML = '';\n",
              "          dataTable['output_type'] = 'display_data';\n",
              "          await google.colab.output.renderOutput(dataTable, element);\n",
              "          const docLink = document.createElement('div');\n",
              "          docLink.innerHTML = docLinkHtml;\n",
              "          element.appendChild(docLink);\n",
              "        }\n",
              "      </script>\n",
              "    </div>\n",
              "  </div>\n",
              "  "
            ]
          },
          "metadata": {},
          "execution_count": 8
        }
      ]
    },
    {
      "cell_type": "markdown",
      "source": [
        "E.D.A - Essential Data Analysation\n",
        "\n",
        "General overview of data.\n",
        "\n",
        "1) age\n",
        "\n",
        "2) sex - (1 = male; 0 = female)\n",
        "\n",
        "3) cp - chest pain type (4 values)\n",
        "\n",
        "4) trestbps - resting blood pressure\n",
        "\n",
        "5) chol - serum cholestoral in mg/dl\n",
        "\n",
        "6) fbs - fasting blood sugar > 120 mg/dl (1 = true; 0 = false)\n",
        "\n",
        "7) restecg - resting electrocardiographic results (values 0,1,2)\n",
        "\n",
        "8) thalach - maximum heart rate achieved\n",
        "\n",
        "9) exang - exercise induced angina (1 = yes; 0 = no)\n",
        "\n",
        "10) oldpeak - ST depression induced by exercise relative to rest\n",
        "\n",
        "11) slope - the slope of the peak exercise ST segment\n",
        "\n",
        "12) ca - number of major vessels (0-3) colored by flourosopy\n",
        "\n",
        "13) thal - 0 = normal; 1 = fixed defect; 2 = reversable defect.\n",
        "\n",
        "14) traget - (1 = died; 0 = lived)"
      ],
      "metadata": {
        "id": "EqhX3SZ0m5jw"
      }
    },
    {
      "cell_type": "markdown",
      "source": [
        "Chest Pain Types\n",
        "\n",
        "a. value 0 : typical angina\n",
        "\n",
        "b. value 1 : atypical angina\n",
        "\n",
        "c. value 2 : non-anginal pain\n",
        "\n",
        "d. value 3 : asymptomatic"
      ],
      "metadata": {
        "id": "WqjAJSJcrPBS"
      }
    },
    {
      "cell_type": "code",
      "source": [
        "sns.countplot(heart_data['cp'])\n",
        "plt.xticks([0,1,2,3],[\"typical angina\", \"atypical angina\", \"non-anginal pain\",\"asymptomatic\"])\n",
        "plt.xticks(rotation=75)\n",
        "plt.show()"
      ],
      "metadata": {
        "colab": {
          "base_uri": "https://localhost:8080/",
          "height": 367
        },
        "id": "6RL7RaQrrbxS",
        "outputId": "0ec8bb7d-d2a7-4b4d-e8bd-120cb3010ccd"
      },
      "execution_count": 9,
      "outputs": [
        {
          "output_type": "display_data",
          "data": {
            "text/plain": [
              "<Figure size 432x288 with 1 Axes>"
            ],
            "image/png": "[encoded data removed]"
          },
          "metadata": {
            "needs_background": "light"
          }
        }
      ]
    },
    {
      "cell_type": "code",
      "source": [
        "# Chest Pain Distribution as per Target variable\n",
        "sns.countplot(x=\"cp\", hue=\"target\", data=heart_data)\n",
        "plt.legend(labels = ['No-Disease','Disease'])\n",
        "plt.show()"
      ],
      "metadata": {
        "colab": {
          "base_uri": "https://localhost:8080/",
          "height": 285
        },
        "id": "3jOMTq9SrlGa",
        "outputId": "1d1ecfa7-f45a-4943-9e44-fd9914c06a9e"
      },
      "execution_count": 10,
      "outputs": [
        {
          "output_type": "display_data",
          "data": {
            "text/plain": [
              "<Figure size 432x288 with 1 Axes>"
            ],
            "image/png": "[encoded data removed]"
          },
          "metadata": {
            "needs_background": "light"
          }
        }
      ]
    },
    {
      "cell_type": "code",
      "source": [
        "# count of male & female in this dataset\n",
        "sns.countplot(heart_data['sex'])\n",
        "plt.xticks([0,1],['Female', 'Male'])\n",
        "plt.show()"
      ],
      "metadata": {
        "colab": {
          "base_uri": "https://localhost:8080/",
          "height": 285
        },
        "id": "_vXT-DLUqRlT",
        "outputId": "c8465dc0-0163-4692-c20b-e1b10a980b4a"
      },
      "execution_count": 11,
      "outputs": [
        {
          "output_type": "display_data",
          "data": {
            "text/plain": [
              "<Figure size 432x288 with 1 Axes>"
            ],
            "image/png": "[encoded data removed]"
          },
          "metadata": {
            "needs_background": "light"
          }
        }
      ]
    },
    {
      "cell_type": "code",
      "source": [
        "# Gender distribution according to Target variable\n",
        "sns.countplot(x='sex',hue=\"target\",data=heart_data)\n",
        "plt.xticks([1,0],['Male','Female'])\n",
        "plt.legend(labels = ['No-Disease','Disease'])\n",
        "plt.show()"
      ],
      "metadata": {
        "colab": {
          "base_uri": "https://localhost:8080/",
          "height": 285
        },
        "id": "Ai3XBjypqmPM",
        "outputId": "a4e73654-b6e8-44c8-dc00-454f899dc5e3"
      },
      "execution_count": 12,
      "outputs": [
        {
          "output_type": "display_data",
          "data": {
            "text/plain": [
              "<Figure size 432x288 with 1 Axes>"
            ],
            "image/png": "[encoded data removed]"
          },
          "metadata": {
            "needs_background": "light"
          }
        }
      ]
    },
    {
      "cell_type": "code",
      "source": [
        "# age distribution in the dataset\n",
        "sns.displot(heart_data['age'],bins=20)\n",
        "plt.show()"
      ],
      "metadata": {
        "colab": {
          "base_uri": "https://localhost:8080/",
          "height": 369
        },
        "id": "Q6Mq6U_Hq04C",
        "outputId": "16fa0406-02bb-40a5-c4fe-0e8c8b03b063"
      },
      "execution_count": 13,
      "outputs": [
        {
          "output_type": "display_data",
          "data": {
            "text/plain": [
              "<Figure size 360x360 with 1 Axes>"
            ],
            "image/png": "[encoded data removed]"
          },
          "metadata": {
            "needs_background": "light"
          }
        }
      ]
    },
    {
      "cell_type": "code",
      "source": [
        "# Fasting blood sugar distribution according to Target variable\n",
        "sns.countplot(x=\"fbs\", hue=\"target\", data=heart_data)\n",
        "plt.legend(labels = ['No-Disease','Disease'])\n",
        "plt.show()"
      ],
      "metadata": {
        "colab": {
          "base_uri": "https://localhost:8080/",
          "height": 285
        },
        "id": "xRtEfOIksFYj",
        "outputId": "0118984a-6f96-4dfd-d13d-9946ac572837"
      },
      "execution_count": 14,
      "outputs": [
        {
          "output_type": "display_data",
          "data": {
            "text/plain": [
              "<Figure size 432x288 with 1 Axes>"
            ],
            "image/png": "[encoded data removed]"
          },
          "metadata": {
            "needs_background": "light"
          }
        }
      ]
    },
    {
      "cell_type": "code",
      "source": [
        "# Resting Blood Pressure Distribution\n",
        "heart_data['trestbps'].hist()"
      ],
      "metadata": {
        "colab": {
          "base_uri": "https://localhost:8080/",
          "height": 285
        },
        "id": "riaQSyWOsZWb",
        "outputId": "74189863-07f0-4dba-b23c-6f35ba6e68f0"
      },
      "execution_count": 15,
      "outputs": [
        {
          "output_type": "execute_result",
          "data": {
            "text/plain": [
              "<matplotlib.axes._subplots.AxesSubplot at 0x7fed6de39b10>"
            ]
          },
          "metadata": {},
          "execution_count": 15
        },
        {
          "output_type": "display_data",
          "data": {
            "text/plain": [
              "<Figure size 432x288 with 1 Axes>"
            ],
            "image/png": "[encoded data removed]"
          },
          "metadata": {
            "needs_background": "light"
          }
        }
      ]
    },
    {
      "cell_type": "code",
      "source": [
        "# Comparing resting blood pressure as per sex column\n",
        "g = sns.FacetGrid(heart_data,hue=\"sex\",aspect=4)\n",
        "g.map(sns.kdeplot, 'trestbps', shade=True)\n",
        "plt.legend(labels=['Male', 'Female'])"
      ],
      "metadata": {
        "colab": {
          "base_uri": "https://localhost:8080/",
          "height": 242
        },
        "id": "seHHCtmMspkq",
        "outputId": "5c89154b-9c91-4777-c575-d5e2c8e12755"
      },
      "execution_count": null,
      "outputs": [
        {
          "output_type": "execute_result",
          "data": {
            "text/plain": [
              "<matplotlib.legend.Legend at 0x7f33d3ebe690>"
            ]
          },
          "metadata": {},
          "execution_count": 17
        },
        {
          "output_type": "display_data",
          "data": {
            "text/plain": [
              "<Figure size 864x216 with 1 Axes>"
            ],
            "image/png": "[encoded data removed]"
          },
          "metadata": {
            "needs_background": "light"
          }
        }
      ]
    },
    {
      "cell_type": "code",
      "source": [
        "# Distribution of serum cholestrol\n",
        "heart_data['chol'].hist()"
      ],
      "metadata": {
        "colab": {
          "base_uri": "https://localhost:8080/",
          "height": 285
        },
        "id": "2uJyXaGts5b5",
        "outputId": "3ddb7b5f-6790-4a20-f8df-2d308bdc9f87"
      },
      "execution_count": 16,
      "outputs": [
        {
          "output_type": "execute_result",
          "data": {
            "text/plain": [
              "<matplotlib.axes._subplots.AxesSubplot at 0x7fed6dda42d0>"
            ]
          },
          "metadata": {},
          "execution_count": 16
        },
        {
          "output_type": "display_data",
          "data": {
            "text/plain": [
              "<Figure size 432x288 with 1 Axes>"
            ],
            "image/png": "[encoded data removed]"
          },
          "metadata": {
            "needs_background": "light"
          }
        }
      ]
    },
    {
      "cell_type": "code",
      "source": [
        "# Plotting of continuous variables\n",
        "cate_val=[]\n",
        "cont_val=[]\n",
        "\n",
        "for column in heart_data.columns:\n",
        "    if heart_data[column].nunique() <=10:\n",
        "        cate_val.append(column)\n",
        "    else:\n",
        "        cont_val.append(column)"
      ],
      "metadata": {
        "id": "pfKAOt_dtJDy"
      },
      "execution_count": 17,
      "outputs": []
    },
    {
      "cell_type": "code",
      "source": [
        "cate_val"
      ],
      "metadata": {
        "colab": {
          "base_uri": "https://localhost:8080/"
        },
        "id": "E3WrWPnwtUD8",
        "outputId": "2a354194-890d-4321-9312-7909e2469e18"
      },
      "execution_count": 18,
      "outputs": [
        {
          "output_type": "execute_result",
          "data": {
            "text/plain": [
              "['sex', 'cp', 'fbs', 'restecg', 'exang', 'slope', 'ca', 'thal', 'target']"
            ]
          },
          "metadata": {},
          "execution_count": 18
        }
      ]
    },
    {
      "cell_type": "code",
      "source": [
        "cont_val"
      ],
      "metadata": {
        "colab": {
          "base_uri": "https://localhost:8080/"
        },
        "id": "2pr-Scv8teL7",
        "outputId": "566b26c3-0065-4670-bc80-0a3e0f5be911"
      },
      "execution_count": 19,
      "outputs": [
        {
          "output_type": "execute_result",
          "data": {
            "text/plain": [
              "['age', 'trestbps', 'chol', 'thalach', 'oldpeak']"
            ]
          },
          "metadata": {},
          "execution_count": 19
        }
      ]
    },
    {
      "cell_type": "code",
      "source": [
        "heart_data.hist(cont_val,figsize=(15,6))\n",
        "plt.tight_layout()\n",
        "plt.show()"
      ],
      "metadata": {
        "colab": {
          "base_uri": "https://localhost:8080/",
          "height": 441
        },
        "id": "Z8U4zBoMthp8",
        "outputId": "1f7de81a-f26d-4e82-8406-0ccea237fa69"
      },
      "execution_count": 20,
      "outputs": [
        {
          "output_type": "display_data",
          "data": {
            "text/plain": [
              "<Figure size 1080x432 with 6 Axes>"
            ],
            "image/png": "[encoded data removed]"
          },
          "metadata": {
            "needs_background": "light"
          }
        }
      ]
    },
    {
      "cell_type": "code",
      "source": [
        "Deceased = heart_data.age.where(heart_data.target == 1)\n",
        "\n",
        "sns.histplot(Deceased)\n",
        "plt.title('No. of people died at different age due to heart desease');"
      ],
      "metadata": {
        "colab": {
          "base_uri": "https://localhost:8080/",
          "height": 301
        },
        "id": "i5CN_OL3nBxA",
        "outputId": "05c75296-4fd5-45c7-edbd-49d676009de0"
      },
      "execution_count": 21,
      "outputs": [
        {
          "output_type": "display_data",
          "data": {
            "text/plain": [
              "<Figure size 432x288 with 1 Axes>"
            ],
            "image/png": "[encoded data removed]"
          },
          "metadata": {
            "needs_background": "light"
          }
        }
      ]
    },
    {
      "cell_type": "markdown",
      "source": [
        "This plot shows that count of people died at different age, and people with age between 50-55 has highest count."
      ],
      "metadata": {
        "id": "_V8gT-qansGA"
      }
    },
    {
      "cell_type": "code",
      "source": [
        "sns.catplot(x='sex',y='age',hue='target',data=heart_data);"
      ],
      "metadata": {
        "colab": {
          "base_uri": "https://localhost:8080/",
          "height": 369
        },
        "id": "4f95SBbwgdpB",
        "outputId": "9257610c-ae87-4082-a252-a09f58c4033d"
      },
      "execution_count": 22,
      "outputs": [
        {
          "output_type": "display_data",
          "data": {
            "text/plain": [
              "<Figure size 406.6x360 with 1 Axes>"
            ],
            "image/png": "[encoded data removed]"
          },
          "metadata": {
            "needs_background": "light"
          }
        }
      ]
    },
    {
      "cell_type": "markdown",
      "source": [
        "Here sex (1 = male; 0 = female) and target (1 = died; 0 = lived)\n",
        "\n",
        "This plot shows count of male female died at different age"
      ],
      "metadata": {
        "id": "Fp9fH0FBg7M4"
      }
    },
    {
      "cell_type": "code",
      "source": [
        "sns.catplot(x='exang',y='age',hue='target',data=heart_data);"
      ],
      "metadata": {
        "colab": {
          "base_uri": "https://localhost:8080/",
          "height": 369
        },
        "id": "uBmdssBfhGUQ",
        "outputId": "ea448c8a-e781-448c-8ebc-548b06996d9e"
      },
      "execution_count": 23,
      "outputs": [
        {
          "output_type": "display_data",
          "data": {
            "text/plain": [
              "<Figure size 406.6x360 with 1 Axes>"
            ],
            "image/png": "[encoded data removed]"
          },
          "metadata": {
            "needs_background": "light"
          }
        }
      ]
    },
    {
      "cell_type": "markdown",
      "source": [
        "Here exang (1 = yes 0 = no) and target (1 = died; 0 = lived)\n",
        "\n",
        "This plot shows different age group of people who survied because of exercie."
      ],
      "metadata": {
        "id": "sP5q5b1whNj3"
      }
    },
    {
      "cell_type": "markdown",
      "source": [
        "Exploratory Analysis And Visualisation Of The Data"
      ],
      "metadata": {
        "id": "X-MGoNcKiZcx"
      }
    },
    {
      "cell_type": "code",
      "source": [
        "heart_data.corr().style.background_gradient()"
      ],
      "metadata": {
        "colab": {
          "base_uri": "https://localhost:8080/",
          "height": 508
        },
        "id": "pXYq0CP2nLyT",
        "outputId": "be66933f-e145-4da5-89dc-738900e7ecb7"
      },
      "execution_count": 24,
      "outputs": [
        {
          "output_type": "execute_result",
          "data": {
            "text/plain": [
              "<pandas.io.formats.style.Styler at 0x7fed6b2684d0>"
            ],
            "text/html": [
              "<style type=\"text/css\">\n",
              "#T_652ce_row0_col0, #T_652ce_row1_col1, #T_652ce_row2_col2, #T_652ce_row3_col3, #T_652ce_row4_col4, #T_652ce_row5_col5, #T_652ce_row6_col6, #T_652ce_row7_col7, #T_652ce_row8_col8, #T_652ce_row9_col9, #T_652ce_row10_col10, #T_652ce_row11_col11, #T_652ce_row12_col12, #T_652ce_row13_col13 {\n",
              "  background-color: #023858;\n",
              "  color: #f1f1f1;\n",
              "}\n",
              "#T_652ce_row0_col1, #T_652ce_row8_col5 {\n",
              "  background-color: #e9e5f1;\n",
              "  color: #000000;\n",
              "}\n",
              "#T_652ce_row0_col2, #T_652ce_row4_col13, #T_652ce_row6_col12 {\n",
              "  background-color: #d3d4e7;\n",
              "  color: #000000;\n",
              "}\n",
              "#T_652ce_row0_col3 {\n",
              "  background-color: #abbfdc;\n",
              "  color: #000000;\n",
              "}\n",
              "#T_652ce_row0_col4, #T_652ce_row1_col10, #T_652ce_row4_col8 {\n",
              "  background-color: #afc1dd;\n",
              "  color: #000000;\n",
              "}\n",
              "#T_652ce_row0_col5, #T_652ce_row1_col0, #T_652ce_row10_col6 {\n",
              "  background-color: #dad9ea;\n",
              "  color: #000000;\n",
              "}\n",
              "#T_652ce_row0_col6, #T_652ce_row6_col3, #T_652ce_row10_col3 {\n",
              "  background-color: #fdf5fa;\n",
              "  color: #000000;\n",
              "}\n",
              "#T_652ce_row0_col7, #T_652ce_row1_col4, #T_652ce_row4_col6, #T_652ce_row6_col5, #T_652ce_row7_col0, #T_652ce_row8_col2, #T_652ce_row8_col13, #T_652ce_row9_col10, #T_652ce_row9_col13, #T_652ce_row10_col9, #T_652ce_row13_col1, #T_652ce_row13_col3, #T_652ce_row13_col8, #T_652ce_row13_col11, #T_652ce_row13_col12 {\n",
              "  background-color: #fff7fb;\n",
              "  color: #000000;\n",
              "}\n",
              "#T_652ce_row0_col8, #T_652ce_row11_col12 {\n",
              "  background-color: #a9bfdc;\n",
              "  color: #000000;\n",
              "}\n",
              "#T_652ce_row0_col9 {\n",
              "  background-color: #75a9cf;\n",
              "  color: #f1f1f1;\n",
              "}\n",
              "#T_652ce_row0_col10, #T_652ce_row1_col2, #T_652ce_row2_col9 {\n",
              "  background-color: #ced0e6;\n",
              "  color: #000000;\n",
              "}\n",
              "#T_652ce_row0_col11, #T_652ce_row3_col0, #T_652ce_row11_col0 {\n",
              "  background-color: #7eadd1;\n",
              "  color: #f1f1f1;\n",
              "}\n",
              "#T_652ce_row0_col12, #T_652ce_row11_col1, #T_652ce_row12_col10 {\n",
              "  background-color: #bdc8e1;\n",
              "  color: #000000;\n",
              "}\n",
              "#T_652ce_row0_col13, #T_652ce_row2_col11, #T_652ce_row7_col4 {\n",
              "  background-color: #e7e3f0;\n",
              "  color: #000000;\n",
              "}\n",
              "#T_652ce_row1_col3, #T_652ce_row12_col5, #T_652ce_row13_col5 {\n",
              "  background-color: #f7f0f7;\n",
              "  color: #000000;\n",
              "}\n",
              "#T_652ce_row1_col5, #T_652ce_row4_col5, #T_652ce_row10_col8 {\n",
              "  background-color: #ede8f3;\n",
              "  color: #000000;\n",
              "}\n",
              "#T_652ce_row1_col6, #T_652ce_row13_col4 {\n",
              "  background-color: #f3edf5;\n",
              "  color: #000000;\n",
              "}\n",
              "#T_652ce_row1_col7, #T_652ce_row13_col6 {\n",
              "  background-color: #d2d2e7;\n",
              "  color: #000000;\n",
              "}\n",
              "#T_652ce_row1_col8, #T_652ce_row1_col12, #T_652ce_row8_col12 {\n",
              "  background-color: #9cb9d9;\n",
              "  color: #000000;\n",
              "}\n",
              "#T_652ce_row1_col9, #T_652ce_row6_col10 {\n",
              "  background-color: #94b6d7;\n",
              "  color: #000000;\n",
              "}\n",
              "#T_652ce_row1_col11, #T_652ce_row4_col10 {\n",
              "  background-color: #acc0dd;\n",
              "  color: #000000;\n",
              "}\n",
              "#T_652ce_row1_col13, #T_652ce_row12_col6 {\n",
              "  background-color: #eee9f3;\n",
              "  color: #000000;\n",
              "}\n",
              "#T_652ce_row2_col0, #T_652ce_row4_col2, #T_652ce_row11_col4 {\n",
              "  background-color: #d5d5e8;\n",
              "  color: #000000;\n",
              "}\n",
              "#T_652ce_row2_col1, #T_652ce_row6_col0 {\n",
              "  background-color: #dfddec;\n",
              "  color: #000000;\n",
              "}\n",
              "#T_652ce_row2_col3, #T_652ce_row10_col4 {\n",
              "  background-color: #e6e2ef;\n",
              "  color: #000000;\n",
              "}\n",
              "#T_652ce_row2_col4 {\n",
              "  background-color: #f1ebf4;\n",
              "  color: #000000;\n",
              "}\n",
              "#T_652ce_row2_col5, #T_652ce_row2_col6 {\n",
              "  background-color: #e3e0ee;\n",
              "  color: #000000;\n",
              "}\n",
              "#T_652ce_row2_col7 {\n",
              "  background-color: #73a9cf;\n",
              "  color: #f1f1f1;\n",
              "}\n",
              "#T_652ce_row2_col8 {\n",
              "  background-color: #fbf4f9;\n",
              "  color: #000000;\n",
              "}\n",
              "#T_652ce_row2_col10 {\n",
              "  background-color: #89b1d4;\n",
              "  color: #000000;\n",
              "}\n",
              "#T_652ce_row2_col12, #T_652ce_row11_col7 {\n",
              "  background-color: #ebe6f2;\n",
              "  color: #000000;\n",
              "}\n",
              "#T_652ce_row2_col13 {\n",
              "  background-color: #3f93c2;\n",
              "  color: #f1f1f1;\n",
              "}\n",
              "#T_652ce_row3_col1, #T_652ce_row10_col0 {\n",
              "  background-color: #e5e1ef;\n",
              "  color: #000000;\n",
              "}\n",
              "#T_652ce_row3_col2, #T_652ce_row6_col7 {\n",
              "  background-color: #bbc7e0;\n",
              "  color: #000000;\n",
              "}\n",
              "#T_652ce_row3_col4 {\n",
              "  background-color: #c9cee4;\n",
              "  color: #000000;\n",
              "}\n",
              "#T_652ce_row3_col5, #T_652ce_row6_col8 {\n",
              "  background-color: #cdd0e5;\n",
              "  color: #000000;\n",
              "}\n",
              "#T_652ce_row3_col6 {\n",
              "  background-color: #fcf4fa;\n",
              "  color: #000000;\n",
              "}\n",
              "#T_652ce_row3_col7 {\n",
              "  background-color: #d0d1e6;\n",
              "  color: #000000;\n",
              "}\n",
              "#T_652ce_row3_col8, #T_652ce_row8_col0 {\n",
              "  background-color: #b0c2de;\n",
              "  color: #000000;\n",
              "}\n",
              "#T_652ce_row3_col9 {\n",
              "  background-color: #7bacd1;\n",
              "  color: #f1f1f1;\n",
              "}\n",
              "#T_652ce_row3_col10, #T_652ce_row9_col3 {\n",
              "  background-color: #c4cbe3;\n",
              "  color: #000000;\n",
              "}\n",
              "#T_652ce_row3_col11, #T_652ce_row8_col11 {\n",
              "  background-color: #adc1dd;\n",
              "  color: #000000;\n",
              "}\n",
              "#T_652ce_row3_col12 {\n",
              "  background-color: #c1cae2;\n",
              "  color: #000000;\n",
              "}\n",
              "#T_652ce_row3_col13, #T_652ce_row11_col3, #T_652ce_row12_col7 {\n",
              "  background-color: #d9d8ea;\n",
              "  color: #000000;\n",
              "}\n",
              "#T_652ce_row4_col0 {\n",
              "  background-color: #8cb3d5;\n",
              "  color: #000000;\n",
              "}\n",
              "#T_652ce_row4_col1 {\n",
              "  background-color: #f5eff6;\n",
              "  color: #000000;\n",
              "}\n",
              "#T_652ce_row4_col3 {\n",
              "  background-color: #d4d4e8;\n",
              "  color: #000000;\n",
              "}\n",
              "#T_652ce_row4_col7 {\n",
              "  background-color: #cccfe5;\n",
              "  color: #000000;\n",
              "}\n",
              "#T_652ce_row4_col9 {\n",
              "  background-color: #99b8d8;\n",
              "  color: #000000;\n",
              "}\n",
              "#T_652ce_row4_col11 {\n",
              "  background-color: #b5c4df;\n",
              "  color: #000000;\n",
              "}\n",
              "#T_652ce_row4_col12, #T_652ce_row5_col10, #T_652ce_row8_col1 {\n",
              "  background-color: #b7c5df;\n",
              "  color: #000000;\n",
              "}\n",
              "#T_652ce_row5_col0 {\n",
              "  background-color: #a8bedc;\n",
              "  color: #000000;\n",
              "}\n",
              "#T_652ce_row5_col1 {\n",
              "  background-color: #d2d3e7;\n",
              "  color: #000000;\n",
              "}\n",
              "#T_652ce_row5_col2 {\n",
              "  background-color: #b1c2de;\n",
              "  color: #000000;\n",
              "}\n",
              "#T_652ce_row5_col3, #T_652ce_row9_col1 {\n",
              "  background-color: #c5cce3;\n",
              "  color: #000000;\n",
              "}\n",
              "#T_652ce_row5_col4 {\n",
              "  background-color: #dedcec;\n",
              "  color: #000000;\n",
              "}\n",
              "#T_652ce_row5_col6, #T_652ce_row10_col5 {\n",
              "  background-color: #faf2f8;\n",
              "  color: #000000;\n",
              "}\n",
              "#T_652ce_row5_col7, #T_652ce_row5_col13 {\n",
              "  background-color: #c8cde4;\n",
              "  color: #000000;\n",
              "}\n",
              "#T_652ce_row5_col8 {\n",
              "  background-color: #b3c3de;\n",
              "  color: #000000;\n",
              "}\n",
              "#T_652ce_row5_col9, #T_652ce_row12_col1 {\n",
              "  background-color: #a7bddb;\n",
              "  color: #000000;\n",
              "}\n",
              "#T_652ce_row5_col11 {\n",
              "  background-color: #a5bddb;\n",
              "  color: #000000;\n",
              "}\n",
              "#T_652ce_row5_col12, #T_652ce_row6_col11, #T_652ce_row8_col4, #T_652ce_row9_col4 {\n",
              "  background-color: #d7d6e9;\n",
              "  color: #000000;\n",
              "}\n",
              "#T_652ce_row6_col1, #T_652ce_row8_col3, #T_652ce_row12_col3 {\n",
              "  background-color: #e1dfed;\n",
              "  color: #000000;\n",
              "}\n",
              "#T_652ce_row6_col2, #T_652ce_row11_col10 {\n",
              "  background-color: #b9c6e0;\n",
              "  color: #000000;\n",
              "}\n",
              "#T_652ce_row6_col4, #T_652ce_row7_col8, #T_652ce_row11_col13 {\n",
              "  background-color: #f9f2f8;\n",
              "  color: #000000;\n",
              "}\n",
              "#T_652ce_row6_col9, #T_652ce_row12_col0 {\n",
              "  background-color: #b4c4df;\n",
              "  color: #000000;\n",
              "}\n",
              "#T_652ce_row6_col13 {\n",
              "  background-color: #9ebad9;\n",
              "  color: #000000;\n",
              "}\n",
              "#T_652ce_row7_col1, #T_652ce_row10_col12 {\n",
              "  background-color: #e0dded;\n",
              "  color: #000000;\n",
              "}\n",
              "#T_652ce_row7_col2, #T_652ce_row11_col9 {\n",
              "  background-color: #71a8ce;\n",
              "  color: #f1f1f1;\n",
              "}\n",
              "#T_652ce_row7_col3, #T_652ce_row7_col5, #T_652ce_row9_col6, #T_652ce_row13_col9 {\n",
              "  background-color: #f2ecf5;\n",
              "  color: #000000;\n",
              "}\n",
              "#T_652ce_row7_col6, #T_652ce_row12_col2 {\n",
              "  background-color: #e2dfee;\n",
              "  color: #000000;\n",
              "}\n",
              "#T_652ce_row7_col9 {\n",
              "  background-color: #e8e4f0;\n",
              "  color: #000000;\n",
              "}\n",
              "#T_652ce_row7_col10 {\n",
              "  background-color: #3b92c1;\n",
              "  color: #f1f1f1;\n",
              "}\n",
              "#T_652ce_row7_col11 {\n",
              "  background-color: #ece7f2;\n",
              "  color: #000000;\n",
              "}\n",
              "#T_652ce_row7_col12 {\n",
              "  background-color: #e0deed;\n",
              "  color: #000000;\n",
              "}\n",
              "#T_652ce_row7_col13 {\n",
              "  background-color: #4295c3;\n",
              "  color: #f1f1f1;\n",
              "}\n",
              "#T_652ce_row8_col6 {\n",
              "  background-color: #f4eef6;\n",
              "  color: #000000;\n",
              "}\n",
              "#T_652ce_row8_col7 {\n",
              "  background-color: #fef6fb;\n",
              "  color: #000000;\n",
              "}\n",
              "#T_652ce_row8_col9 {\n",
              "  background-color: #569dc8;\n",
              "  color: #f1f1f1;\n",
              "}\n",
              "#T_652ce_row8_col10, #T_652ce_row10_col1 {\n",
              "  background-color: #dcdaeb;\n",
              "  color: #000000;\n",
              "}\n",
              "#T_652ce_row9_col0 {\n",
              "  background-color: #8fb4d6;\n",
              "  color: #000000;\n",
              "}\n",
              "#T_652ce_row9_col2, #T_652ce_row11_col2 {\n",
              "  background-color: #e4e1ef;\n",
              "  color: #000000;\n",
              "}\n",
              "#T_652ce_row9_col5 {\n",
              "  background-color: #f0eaf4;\n",
              "  color: #000000;\n",
              "}\n",
              "#T_652ce_row9_col7 {\n",
              "  background-color: #fbf3f9;\n",
              "  color: #000000;\n",
              "}\n",
              "#T_652ce_row9_col8 {\n",
              "  background-color: #69a5cc;\n",
              "  color: #f1f1f1;\n",
              "}\n",
              "#T_652ce_row9_col11 {\n",
              "  background-color: #8eb3d5;\n",
              "  color: #000000;\n",
              "}\n",
              "#T_652ce_row9_col12 {\n",
              "  background-color: #9ab8d8;\n",
              "  color: #000000;\n",
              "}\n",
              "#T_652ce_row10_col2, #T_652ce_row11_col8 {\n",
              "  background-color: #a4bcda;\n",
              "  color: #000000;\n",
              "}\n",
              "#T_652ce_row10_col7 {\n",
              "  background-color: #549cc7;\n",
              "  color: #f1f1f1;\n",
              "}\n",
              "#T_652ce_row10_col11 {\n",
              "  background-color: #d6d6e9;\n",
              "  color: #000000;\n",
              "}\n",
              "#T_652ce_row10_col13 {\n",
              "  background-color: #5ea0ca;\n",
              "  color: #f1f1f1;\n",
              "}\n",
              "#T_652ce_row11_col5 {\n",
              "  background-color: #d8d7e9;\n",
              "  color: #000000;\n",
              "}\n",
              "#T_652ce_row11_col6 {\n",
              "  background-color: #f6eff7;\n",
              "  color: #000000;\n",
              "}\n",
              "#T_652ce_row12_col4 {\n",
              "  background-color: #d1d2e6;\n",
              "  color: #000000;\n",
              "}\n",
              "#T_652ce_row12_col8 {\n",
              "  background-color: #8bb2d4;\n",
              "  color: #000000;\n",
              "}\n",
              "#T_652ce_row12_col9 {\n",
              "  background-color: #76aad0;\n",
              "  color: #f1f1f1;\n",
              "}\n",
              "#T_652ce_row12_col11 {\n",
              "  background-color: #a2bcda;\n",
              "  color: #000000;\n",
              "}\n",
              "#T_652ce_row12_col13 {\n",
              "  background-color: #f5eef6;\n",
              "  color: #000000;\n",
              "}\n",
              "#T_652ce_row13_col0 {\n",
              "  background-color: #eee8f3;\n",
              "  color: #000000;\n",
              "}\n",
              "#T_652ce_row13_col2 {\n",
              "  background-color: #4496c3;\n",
              "  color: #f1f1f1;\n",
              "}\n",
              "#T_652ce_row13_col7, #T_652ce_row13_col10 {\n",
              "  background-color: #4a98c5;\n",
              "  color: #f1f1f1;\n",
              "}\n",
              "</style>\n",
              "<table id=\"T_652ce_\" class=\"dataframe\">\n",
              "  <thead>\n",
              "    <tr>\n",
              "      <th class=\"blank level0\" >&nbsp;</th>\n",
              "      <th class=\"col_heading level0 col0\" >age</th>\n",
              "      <th class=\"col_heading level0 col1\" >sex</th>\n",
              "      <th class=\"col_heading level0 col2\" >cp</th>\n",
              "      <th class=\"col_heading level0 col3\" >trestbps</th>\n",
              "      <th class=\"col_heading level0 col4\" >chol</th>\n",
              "      <th class=\"col_heading level0 col5\" >fbs</th>\n",
              "      <th class=\"col_heading level0 col6\" >restecg</th>\n",
              "      <th class=\"col_heading level0 col7\" >thalach</th>\n",
              "      <th class=\"col_heading level0 col8\" >exang</th>\n",
              "      <th class=\"col_heading level0 col9\" >oldpeak</th>\n",
              "      <th class=\"col_heading level0 col10\" >slope</th>\n",
              "      <th class=\"col_heading level0 col11\" >ca</th>\n",
              "      <th class=\"col_heading level0 col12\" >thal</th>\n",
              "      <th class=\"col_heading level0 col13\" >target</th>\n",
              "    </tr>\n",
              "  </thead>\n",
              "  <tbody>\n",
              "    <tr>\n",
              "      <th id=\"T_652ce_level0_row0\" class=\"row_heading level0 row0\" >age</th>\n",
              "      <td id=\"T_652ce_row0_col0\" class=\"data row0 col0\" >1.000000</td>\n",
              "      <td id=\"T_652ce_row0_col1\" class=\"data row0 col1\" >-0.103240</td>\n",
              "      <td id=\"T_652ce_row0_col2\" class=\"data row0 col2\" >-0.071966</td>\n",
              "      <td id=\"T_652ce_row0_col3\" class=\"data row0 col3\" >0.271121</td>\n",
              "      <td id=\"T_652ce_row0_col4\" class=\"data row0 col4\" >0.219823</td>\n",
              "      <td id=\"T_652ce_row0_col5\" class=\"data row0 col5\" >0.121243</td>\n",
              "      <td id=\"T_652ce_row0_col6\" class=\"data row0 col6\" >-0.132696</td>\n",
              "      <td id=\"T_652ce_row0_col7\" class=\"data row0 col7\" >-0.390227</td>\n",
              "      <td id=\"T_652ce_row0_col8\" class=\"data row0 col8\" >0.088163</td>\n",
              "      <td id=\"T_652ce_row0_col9\" class=\"data row0 col9\" >0.208137</td>\n",
              "      <td id=\"T_652ce_row0_col10\" class=\"data row0 col10\" >-0.169105</td>\n",
              "      <td id=\"T_652ce_row0_col11\" class=\"data row0 col11\" >0.271551</td>\n",
              "      <td id=\"T_652ce_row0_col12\" class=\"data row0 col12\" >0.072297</td>\n",
              "      <td id=\"T_652ce_row0_col13\" class=\"data row0 col13\" >-0.229324</td>\n",
              "    </tr>\n",
              "    <tr>\n",
              "      <th id=\"T_652ce_level0_row1\" class=\"row_heading level0 row1\" >sex</th>\n",
              "      <td id=\"T_652ce_row1_col0\" class=\"data row1 col0\" >-0.103240</td>\n",
              "      <td id=\"T_652ce_row1_col1\" class=\"data row1 col1\" >1.000000</td>\n",
              "      <td id=\"T_652ce_row1_col2\" class=\"data row1 col2\" >-0.041119</td>\n",
              "      <td id=\"T_652ce_row1_col3\" class=\"data row1 col3\" >-0.078974</td>\n",
              "      <td id=\"T_652ce_row1_col4\" class=\"data row1 col4\" >-0.198258</td>\n",
              "      <td id=\"T_652ce_row1_col5\" class=\"data row1 col5\" >0.027200</td>\n",
              "      <td id=\"T_652ce_row1_col6\" class=\"data row1 col6\" >-0.055117</td>\n",
              "      <td id=\"T_652ce_row1_col7\" class=\"data row1 col7\" >-0.049365</td>\n",
              "      <td id=\"T_652ce_row1_col8\" class=\"data row1 col8\" >0.139157</td>\n",
              "      <td id=\"T_652ce_row1_col9\" class=\"data row1 col9\" >0.084687</td>\n",
              "      <td id=\"T_652ce_row1_col10\" class=\"data row1 col10\" >-0.026666</td>\n",
              "      <td id=\"T_652ce_row1_col11\" class=\"data row1 col11\" >0.111729</td>\n",
              "      <td id=\"T_652ce_row1_col12\" class=\"data row1 col12\" >0.198424</td>\n",
              "      <td id=\"T_652ce_row1_col13\" class=\"data row1 col13\" >-0.279501</td>\n",
              "    </tr>\n",
              "    <tr>\n",
              "      <th id=\"T_652ce_level0_row2\" class=\"row_heading level0 row2\" >cp</th>\n",
              "      <td id=\"T_652ce_row2_col0\" class=\"data row2 col0\" >-0.071966</td>\n",
              "      <td id=\"T_652ce_row2_col1\" class=\"data row2 col1\" >-0.041119</td>\n",
              "      <td id=\"T_652ce_row2_col2\" class=\"data row2 col2\" >1.000000</td>\n",
              "      <td id=\"T_652ce_row2_col3\" class=\"data row2 col3\" >0.038177</td>\n",
              "      <td id=\"T_652ce_row2_col4\" class=\"data row2 col4\" >-0.081641</td>\n",
              "      <td id=\"T_652ce_row2_col5\" class=\"data row2 col5\" >0.079294</td>\n",
              "      <td id=\"T_652ce_row2_col6\" class=\"data row2 col6\" >0.043581</td>\n",
              "      <td id=\"T_652ce_row2_col7\" class=\"data row2 col7\" >0.306839</td>\n",
              "      <td id=\"T_652ce_row2_col8\" class=\"data row2 col8\" >-0.401513</td>\n",
              "      <td id=\"T_652ce_row2_col9\" class=\"data row2 col9\" >-0.174733</td>\n",
              "      <td id=\"T_652ce_row2_col10\" class=\"data row2 col10\" >0.131633</td>\n",
              "      <td id=\"T_652ce_row2_col11\" class=\"data row2 col11\" >-0.176206</td>\n",
              "      <td id=\"T_652ce_row2_col12\" class=\"data row2 col12\" >-0.163341</td>\n",
              "      <td id=\"T_652ce_row2_col13\" class=\"data row2 col13\" >0.434854</td>\n",
              "    </tr>\n",
              "    <tr>\n",
              "      <th id=\"T_652ce_level0_row3\" class=\"row_heading level0 row3\" >trestbps</th>\n",
              "      <td id=\"T_652ce_row3_col0\" class=\"data row3 col0\" >0.271121</td>\n",
              "      <td id=\"T_652ce_row3_col1\" class=\"data row3 col1\" >-0.078974</td>\n",
              "      <td id=\"T_652ce_row3_col2\" class=\"data row3 col2\" >0.038177</td>\n",
              "      <td id=\"T_652ce_row3_col3\" class=\"data row3 col3\" >1.000000</td>\n",
              "      <td id=\"T_652ce_row3_col4\" class=\"data row3 col4\" >0.127977</td>\n",
              "      <td id=\"T_652ce_row3_col5\" class=\"data row3 col5\" >0.181767</td>\n",
              "      <td id=\"T_652ce_row3_col6\" class=\"data row3 col6\" >-0.123794</td>\n",
              "      <td id=\"T_652ce_row3_col7\" class=\"data row3 col7\" >-0.039264</td>\n",
              "      <td id=\"T_652ce_row3_col8\" class=\"data row3 col8\" >0.061197</td>\n",
              "      <td id=\"T_652ce_row3_col9\" class=\"data row3 col9\" >0.187434</td>\n",
              "      <td id=\"T_652ce_row3_col10\" class=\"data row3 col10\" >-0.120445</td>\n",
              "      <td id=\"T_652ce_row3_col11\" class=\"data row3 col11\" >0.104554</td>\n",
              "      <td id=\"T_652ce_row3_col12\" class=\"data row3 col12\" >0.059276</td>\n",
              "      <td id=\"T_652ce_row3_col13\" class=\"data row3 col13\" >-0.138772</td>\n",
              "    </tr>\n",
              "    <tr>\n",
              "      <th id=\"T_652ce_level0_row4\" class=\"row_heading level0 row4\" >chol</th>\n",
              "      <td id=\"T_652ce_row4_col0\" class=\"data row4 col0\" >0.219823</td>\n",
              "      <td id=\"T_652ce_row4_col1\" class=\"data row4 col1\" >-0.198258</td>\n",
              "      <td id=\"T_652ce_row4_col2\" class=\"data row4 col2\" >-0.081641</td>\n",
              "      <td id=\"T_652ce_row4_col3\" class=\"data row4 col3\" >0.127977</td>\n",
              "      <td id=\"T_652ce_row4_col4\" class=\"data row4 col4\" >1.000000</td>\n",
              "      <td id=\"T_652ce_row4_col5\" class=\"data row4 col5\" >0.026917</td>\n",
              "      <td id=\"T_652ce_row4_col6\" class=\"data row4 col6\" >-0.147410</td>\n",
              "      <td id=\"T_652ce_row4_col7\" class=\"data row4 col7\" >-0.021772</td>\n",
              "      <td id=\"T_652ce_row4_col8\" class=\"data row4 col8\" >0.067382</td>\n",
              "      <td id=\"T_652ce_row4_col9\" class=\"data row4 col9\" >0.064880</td>\n",
              "      <td id=\"T_652ce_row4_col10\" class=\"data row4 col10\" >-0.014248</td>\n",
              "      <td id=\"T_652ce_row4_col11\" class=\"data row4 col11\" >0.074259</td>\n",
              "      <td id=\"T_652ce_row4_col12\" class=\"data row4 col12\" >0.100244</td>\n",
              "      <td id=\"T_652ce_row4_col13\" class=\"data row4 col13\" >-0.099966</td>\n",
              "    </tr>\n",
              "    <tr>\n",
              "      <th id=\"T_652ce_level0_row5\" class=\"row_heading level0 row5\" >fbs</th>\n",
              "      <td id=\"T_652ce_row5_col0\" class=\"data row5 col0\" >0.121243</td>\n",
              "      <td id=\"T_652ce_row5_col1\" class=\"data row5 col1\" >0.027200</td>\n",
              "      <td id=\"T_652ce_row5_col2\" class=\"data row5 col2\" >0.079294</td>\n",
              "      <td id=\"T_652ce_row5_col3\" class=\"data row5 col3\" >0.181767</td>\n",
              "      <td id=\"T_652ce_row5_col4\" class=\"data row5 col4\" >0.026917</td>\n",
              "      <td id=\"T_652ce_row5_col5\" class=\"data row5 col5\" >1.000000</td>\n",
              "      <td id=\"T_652ce_row5_col6\" class=\"data row5 col6\" >-0.104051</td>\n",
              "      <td id=\"T_652ce_row5_col7\" class=\"data row5 col7\" >-0.008866</td>\n",
              "      <td id=\"T_652ce_row5_col8\" class=\"data row5 col8\" >0.049261</td>\n",
              "      <td id=\"T_652ce_row5_col9\" class=\"data row5 col9\" >0.010859</td>\n",
              "      <td id=\"T_652ce_row5_col10\" class=\"data row5 col10\" >-0.061902</td>\n",
              "      <td id=\"T_652ce_row5_col11\" class=\"data row5 col11\" >0.137156</td>\n",
              "      <td id=\"T_652ce_row5_col12\" class=\"data row5 col12\" >-0.042177</td>\n",
              "      <td id=\"T_652ce_row5_col13\" class=\"data row5 col13\" >-0.041164</td>\n",
              "    </tr>\n",
              "    <tr>\n",
              "      <th id=\"T_652ce_level0_row6\" class=\"row_heading level0 row6\" >restecg</th>\n",
              "      <td id=\"T_652ce_row6_col0\" class=\"data row6 col0\" >-0.132696</td>\n",
              "      <td id=\"T_652ce_row6_col1\" class=\"data row6 col1\" >-0.055117</td>\n",
              "      <td id=\"T_652ce_row6_col2\" class=\"data row6 col2\" >0.043581</td>\n",
              "      <td id=\"T_652ce_row6_col3\" class=\"data row6 col3\" >-0.123794</td>\n",
              "      <td id=\"T_652ce_row6_col4\" class=\"data row6 col4\" >-0.147410</td>\n",
              "      <td id=\"T_652ce_row6_col5\" class=\"data row6 col5\" >-0.104051</td>\n",
              "      <td id=\"T_652ce_row6_col6\" class=\"data row6 col6\" >1.000000</td>\n",
              "      <td id=\"T_652ce_row6_col7\" class=\"data row6 col7\" >0.048411</td>\n",
              "      <td id=\"T_652ce_row6_col8\" class=\"data row6 col8\" >-0.065606</td>\n",
              "      <td id=\"T_652ce_row6_col9\" class=\"data row6 col9\" >-0.050114</td>\n",
              "      <td id=\"T_652ce_row6_col10\" class=\"data row6 col10\" >0.086086</td>\n",
              "      <td id=\"T_652ce_row6_col11\" class=\"data row6 col11\" >-0.078072</td>\n",
              "      <td id=\"T_652ce_row6_col12\" class=\"data row6 col12\" >-0.020504</td>\n",
              "      <td id=\"T_652ce_row6_col13\" class=\"data row6 col13\" >0.134468</td>\n",
              "    </tr>\n",
              "    <tr>\n",
              "      <th id=\"T_652ce_level0_row7\" class=\"row_heading level0 row7\" >thalach</th>\n",
              "      <td id=\"T_652ce_row7_col0\" class=\"data row7 col0\" >-0.390227</td>\n",
              "      <td id=\"T_652ce_row7_col1\" class=\"data row7 col1\" >-0.049365</td>\n",
              "      <td id=\"T_652ce_row7_col2\" class=\"data row7 col2\" >0.306839</td>\n",
              "      <td id=\"T_652ce_row7_col3\" class=\"data row7 col3\" >-0.039264</td>\n",
              "      <td id=\"T_652ce_row7_col4\" class=\"data row7 col4\" >-0.021772</td>\n",
              "      <td id=\"T_652ce_row7_col5\" class=\"data row7 col5\" >-0.008866</td>\n",
              "      <td id=\"T_652ce_row7_col6\" class=\"data row7 col6\" >0.048411</td>\n",
              "      <td id=\"T_652ce_row7_col7\" class=\"data row7 col7\" >1.000000</td>\n",
              "      <td id=\"T_652ce_row7_col8\" class=\"data row7 col8\" >-0.380281</td>\n",
              "      <td id=\"T_652ce_row7_col9\" class=\"data row7 col9\" >-0.349796</td>\n",
              "      <td id=\"T_652ce_row7_col10\" class=\"data row7 col10\" >0.395308</td>\n",
              "      <td id=\"T_652ce_row7_col11\" class=\"data row7 col11\" >-0.207888</td>\n",
              "      <td id=\"T_652ce_row7_col12\" class=\"data row7 col12\" >-0.098068</td>\n",
              "      <td id=\"T_652ce_row7_col13\" class=\"data row7 col13\" >0.422895</td>\n",
              "    </tr>\n",
              "    <tr>\n",
              "      <th id=\"T_652ce_level0_row8\" class=\"row_heading level0 row8\" >exang</th>\n",
              "      <td id=\"T_652ce_row8_col0\" class=\"data row8 col0\" >0.088163</td>\n",
              "      <td id=\"T_652ce_row8_col1\" class=\"data row8 col1\" >0.139157</td>\n",
              "      <td id=\"T_652ce_row8_col2\" class=\"data row8 col2\" >-0.401513</td>\n",
              "      <td id=\"T_652ce_row8_col3\" class=\"data row8 col3\" >0.061197</td>\n",
              "      <td id=\"T_652ce_row8_col4\" class=\"data row8 col4\" >0.067382</td>\n",
              "      <td id=\"T_652ce_row8_col5\" class=\"data row8 col5\" >0.049261</td>\n",
              "      <td id=\"T_652ce_row8_col6\" class=\"data row8 col6\" >-0.065606</td>\n",
              "      <td id=\"T_652ce_row8_col7\" class=\"data row8 col7\" >-0.380281</td>\n",
              "      <td id=\"T_652ce_row8_col8\" class=\"data row8 col8\" >1.000000</td>\n",
              "      <td id=\"T_652ce_row8_col9\" class=\"data row8 col9\" >0.310844</td>\n",
              "      <td id=\"T_652ce_row8_col10\" class=\"data row8 col10\" >-0.267335</td>\n",
              "      <td id=\"T_652ce_row8_col11\" class=\"data row8 col11\" >0.107849</td>\n",
              "      <td id=\"T_652ce_row8_col12\" class=\"data row8 col12\" >0.197201</td>\n",
              "      <td id=\"T_652ce_row8_col13\" class=\"data row8 col13\" >-0.438029</td>\n",
              "    </tr>\n",
              "    <tr>\n",
              "      <th id=\"T_652ce_level0_row9\" class=\"row_heading level0 row9\" >oldpeak</th>\n",
              "      <td id=\"T_652ce_row9_col0\" class=\"data row9 col0\" >0.208137</td>\n",
              "      <td id=\"T_652ce_row9_col1\" class=\"data row9 col1\" >0.084687</td>\n",
              "      <td id=\"T_652ce_row9_col2\" class=\"data row9 col2\" >-0.174733</td>\n",
              "      <td id=\"T_652ce_row9_col3\" class=\"data row9 col3\" >0.187434</td>\n",
              "      <td id=\"T_652ce_row9_col4\" class=\"data row9 col4\" >0.064880</td>\n",
              "      <td id=\"T_652ce_row9_col5\" class=\"data row9 col5\" >0.010859</td>\n",
              "      <td id=\"T_652ce_row9_col6\" class=\"data row9 col6\" >-0.050114</td>\n",
              "      <td id=\"T_652ce_row9_col7\" class=\"data row9 col7\" >-0.349796</td>\n",
              "      <td id=\"T_652ce_row9_col8\" class=\"data row9 col8\" >0.310844</td>\n",
              "      <td id=\"T_652ce_row9_col9\" class=\"data row9 col9\" >1.000000</td>\n",
              "      <td id=\"T_652ce_row9_col10\" class=\"data row9 col10\" >-0.575189</td>\n",
              "      <td id=\"T_652ce_row9_col11\" class=\"data row9 col11\" >0.221816</td>\n",
              "      <td id=\"T_652ce_row9_col12\" class=\"data row9 col12\" >0.202672</td>\n",
              "      <td id=\"T_652ce_row9_col13\" class=\"data row9 col13\" >-0.438441</td>\n",
              "    </tr>\n",
              "    <tr>\n",
              "      <th id=\"T_652ce_level0_row10\" class=\"row_heading level0 row10\" >slope</th>\n",
              "      <td id=\"T_652ce_row10_col0\" class=\"data row10 col0\" >-0.169105</td>\n",
              "      <td id=\"T_652ce_row10_col1\" class=\"data row10 col1\" >-0.026666</td>\n",
              "      <td id=\"T_652ce_row10_col2\" class=\"data row10 col2\" >0.131633</td>\n",
              "      <td id=\"T_652ce_row10_col3\" class=\"data row10 col3\" >-0.120445</td>\n",
              "      <td id=\"T_652ce_row10_col4\" class=\"data row10 col4\" >-0.014248</td>\n",
              "      <td id=\"T_652ce_row10_col5\" class=\"data row10 col5\" >-0.061902</td>\n",
              "      <td id=\"T_652ce_row10_col6\" class=\"data row10 col6\" >0.086086</td>\n",
              "      <td id=\"T_652ce_row10_col7\" class=\"data row10 col7\" >0.395308</td>\n",
              "      <td id=\"T_652ce_row10_col8\" class=\"data row10 col8\" >-0.267335</td>\n",
              "      <td id=\"T_652ce_row10_col9\" class=\"data row10 col9\" >-0.575189</td>\n",
              "      <td id=\"T_652ce_row10_col10\" class=\"data row10 col10\" >1.000000</td>\n",
              "      <td id=\"T_652ce_row10_col11\" class=\"data row10 col11\" >-0.073440</td>\n",
              "      <td id=\"T_652ce_row10_col12\" class=\"data row10 col12\" >-0.094090</td>\n",
              "      <td id=\"T_652ce_row10_col13\" class=\"data row10 col13\" >0.345512</td>\n",
              "    </tr>\n",
              "    <tr>\n",
              "      <th id=\"T_652ce_level0_row11\" class=\"row_heading level0 row11\" >ca</th>\n",
              "      <td id=\"T_652ce_row11_col0\" class=\"data row11 col0\" >0.271551</td>\n",
              "      <td id=\"T_652ce_row11_col1\" class=\"data row11 col1\" >0.111729</td>\n",
              "      <td id=\"T_652ce_row11_col2\" class=\"data row11 col2\" >-0.176206</td>\n",
              "      <td id=\"T_652ce_row11_col3\" class=\"data row11 col3\" >0.104554</td>\n",
              "      <td id=\"T_652ce_row11_col4\" class=\"data row11 col4\" >0.074259</td>\n",
              "      <td id=\"T_652ce_row11_col5\" class=\"data row11 col5\" >0.137156</td>\n",
              "      <td id=\"T_652ce_row11_col6\" class=\"data row11 col6\" >-0.078072</td>\n",
              "      <td id=\"T_652ce_row11_col7\" class=\"data row11 col7\" >-0.207888</td>\n",
              "      <td id=\"T_652ce_row11_col8\" class=\"data row11 col8\" >0.107849</td>\n",
              "      <td id=\"T_652ce_row11_col9\" class=\"data row11 col9\" >0.221816</td>\n",
              "      <td id=\"T_652ce_row11_col10\" class=\"data row11 col10\" >-0.073440</td>\n",
              "      <td id=\"T_652ce_row11_col11\" class=\"data row11 col11\" >1.000000</td>\n",
              "      <td id=\"T_652ce_row11_col12\" class=\"data row11 col12\" >0.149014</td>\n",
              "      <td id=\"T_652ce_row11_col13\" class=\"data row11 col13\" >-0.382085</td>\n",
              "    </tr>\n",
              "    <tr>\n",
              "      <th id=\"T_652ce_level0_row12\" class=\"row_heading level0 row12\" >thal</th>\n",
              "      <td id=\"T_652ce_row12_col0\" class=\"data row12 col0\" >0.072297</td>\n",
              "      <td id=\"T_652ce_row12_col1\" class=\"data row12 col1\" >0.198424</td>\n",
              "      <td id=\"T_652ce_row12_col2\" class=\"data row12 col2\" >-0.163341</td>\n",
              "      <td id=\"T_652ce_row12_col3\" class=\"data row12 col3\" >0.059276</td>\n",
              "      <td id=\"T_652ce_row12_col4\" class=\"data row12 col4\" >0.100244</td>\n",
              "      <td id=\"T_652ce_row12_col5\" class=\"data row12 col5\" >-0.042177</td>\n",
              "      <td id=\"T_652ce_row12_col6\" class=\"data row12 col6\" >-0.020504</td>\n",
              "      <td id=\"T_652ce_row12_col7\" class=\"data row12 col7\" >-0.098068</td>\n",
              "      <td id=\"T_652ce_row12_col8\" class=\"data row12 col8\" >0.197201</td>\n",
              "      <td id=\"T_652ce_row12_col9\" class=\"data row12 col9\" >0.202672</td>\n",
              "      <td id=\"T_652ce_row12_col10\" class=\"data row12 col10\" >-0.094090</td>\n",
              "      <td id=\"T_652ce_row12_col11\" class=\"data row12 col11\" >0.149014</td>\n",
              "      <td id=\"T_652ce_row12_col12\" class=\"data row12 col12\" >1.000000</td>\n",
              "      <td id=\"T_652ce_row12_col13\" class=\"data row12 col13\" >-0.337838</td>\n",
              "    </tr>\n",
              "    <tr>\n",
              "      <th id=\"T_652ce_level0_row13\" class=\"row_heading level0 row13\" >target</th>\n",
              "      <td id=\"T_652ce_row13_col0\" class=\"data row13 col0\" >-0.229324</td>\n",
              "      <td id=\"T_652ce_row13_col1\" class=\"data row13 col1\" >-0.279501</td>\n",
              "      <td id=\"T_652ce_row13_col2\" class=\"data row13 col2\" >0.434854</td>\n",
              "      <td id=\"T_652ce_row13_col3\" class=\"data row13 col3\" >-0.138772</td>\n",
              "      <td id=\"T_652ce_row13_col4\" class=\"data row13 col4\" >-0.099966</td>\n",
              "      <td id=\"T_652ce_row13_col5\" class=\"data row13 col5\" >-0.041164</td>\n",
              "      <td id=\"T_652ce_row13_col6\" class=\"data row13 col6\" >0.134468</td>\n",
              "      <td id=\"T_652ce_row13_col7\" class=\"data row13 col7\" >0.422895</td>\n",
              "      <td id=\"T_652ce_row13_col8\" class=\"data row13 col8\" >-0.438029</td>\n",
              "      <td id=\"T_652ce_row13_col9\" class=\"data row13 col9\" >-0.438441</td>\n",
              "      <td id=\"T_652ce_row13_col10\" class=\"data row13 col10\" >0.345512</td>\n",
              "      <td id=\"T_652ce_row13_col11\" class=\"data row13 col11\" >-0.382085</td>\n",
              "      <td id=\"T_652ce_row13_col12\" class=\"data row13 col12\" >-0.337838</td>\n",
              "      <td id=\"T_652ce_row13_col13\" class=\"data row13 col13\" >1.000000</td>\n",
              "    </tr>\n",
              "  </tbody>\n",
              "</table>\n"
            ]
          },
          "metadata": {},
          "execution_count": 24
        }
      ]
    },
    {
      "cell_type": "code",
      "source": [
        "rcParams['figure.figsize'] = 14, 12\n",
        "plt.matshow(heart_data.corr())\n",
        "plt.yticks(np.arange(heart_data.shape[1]), heart_data.columns)\n",
        "plt.xticks(np.arange(heart_data.shape[1]), heart_data.columns)\n",
        "plt.colorbar()"
      ],
      "metadata": {
        "colab": {
          "base_uri": "https://localhost:8080/",
          "height": 722
        },
        "id": "HzOB2JmmigTB",
        "outputId": "eb7f916d-b796-4a55-9719-7f70e08c61c3"
      },
      "execution_count": 25,
      "outputs": [
        {
          "output_type": "execute_result",
          "data": {
            "text/plain": [
              "<matplotlib.colorbar.Colorbar at 0x7fed6ae05d90>"
            ]
          },
          "metadata": {},
          "execution_count": 25
        },
        {
          "output_type": "display_data",
          "data": {
            "text/plain": [
              "<Figure size 864x864 with 2 Axes>"
            ],
            "image/png": "[encoded data removed]"
          },
          "metadata": {
            "needs_background": "light"
          }
        }
      ]
    },
    {
      "cell_type": "code",
      "source": [
        "# histogram for each variables\n",
        "heart_data.hist()"
      ],
      "metadata": {
        "colab": {
          "base_uri": "https://localhost:8080/",
          "height": 1000
        },
        "id": "jJZ62bN8lDt_",
        "outputId": "76e9df4b-6f1b-4732-e4f8-8aeefa387e1c"
      },
      "execution_count": 26,
      "outputs": [
        {
          "output_type": "execute_result",
          "data": {
            "text/plain": [
              "array([[<matplotlib.axes._subplots.AxesSubplot object at 0x7fed6ad2b050>,\n",
              "        <matplotlib.axes._subplots.AxesSubplot object at 0x7fed6ad5e950>,\n",
              "        <matplotlib.axes._subplots.AxesSubplot object at 0x7fed6acf0410>,\n",
              "        <matplotlib.axes._subplots.AxesSubplot object at 0x7fed6b189e10>],\n",
              "       [<matplotlib.axes._subplots.AxesSubplot object at 0x7fed6b1f5ad0>,\n",
              "        <matplotlib.axes._subplots.AxesSubplot object at 0x7fed6b235dd0>,\n",
              "        <matplotlib.axes._subplots.AxesSubplot object at 0x7fed6b27c890>,\n",
              "        <matplotlib.axes._subplots.AxesSubplot object at 0x7fed6b4ebb90>],\n",
              "       [<matplotlib.axes._subplots.AxesSubplot object at 0x7fed6b4eb710>,\n",
              "        <matplotlib.axes._subplots.AxesSubplot object at 0x7fed6b309a90>,\n",
              "        <matplotlib.axes._subplots.AxesSubplot object at 0x7fed6b30d4d0>,\n",
              "        <matplotlib.axes._subplots.AxesSubplot object at 0x7fed6b385390>],\n",
              "       [<matplotlib.axes._subplots.AxesSubplot object at 0x7fed6b3bc610>,\n",
              "        <matplotlib.axes._subplots.AxesSubplot object at 0x7fed6b33f950>,\n",
              "        <matplotlib.axes._subplots.AxesSubplot object at 0x7fed6dd9b250>,\n",
              "        <matplotlib.axes._subplots.AxesSubplot object at 0x7fed6dd92ed0>]],\n",
              "      dtype=object)"
            ]
          },
          "metadata": {},
          "execution_count": 26
        },
        {
          "output_type": "display_data",
          "data": {
            "text/plain": [
              "<Figure size 1008x864 with 16 Axes>"
            ],
            "image/png": "[encoded data removed]"
          },
          "metadata": {
            "needs_background": "light"
          }
        }
      ]
    },
    {
      "cell_type": "code",
      "source": [
        "# checking the distribution of target variables\n",
        "heart_data['target'].value_counts()"
      ],
      "metadata": {
        "colab": {
          "base_uri": "https://localhost:8080/"
        },
        "id": "HKViHl88KCi9",
        "outputId": "948cfeb5-0f77-40d5-ee29-93e41a6e2f7e"
      },
      "execution_count": 27,
      "outputs": [
        {
          "output_type": "execute_result",
          "data": {
            "text/plain": [
              "1    526\n",
              "0    499\n",
              "Name: target, dtype: int64"
            ]
          },
          "metadata": {},
          "execution_count": 27
        }
      ]
    },
    {
      "cell_type": "code",
      "source": [
        "rcParams['figure.figsize'] = 8,6\n",
        "plt.bar(heart_data['target'].unique(), heart_data['target'].value_counts(), color = ['aquamarine', 'crimson'])\n",
        "plt.xticks([0, 1])\n",
        "plt.xlabel('Target Classes')\n",
        "plt.ylabel('Count')\n",
        "plt.title('Count of each Target Class')"
      ],
      "metadata": {
        "colab": {
          "base_uri": "https://localhost:8080/",
          "height": 427
        },
        "id": "A-YuO52nlhdy",
        "outputId": "c6a7ccb9-af3f-45e1-f51a-6ce6cab49129"
      },
      "execution_count": 28,
      "outputs": [
        {
          "output_type": "execute_result",
          "data": {
            "text/plain": [
              "Text(0.5, 1.0, 'Count of each Target Class')"
            ]
          },
          "metadata": {},
          "execution_count": 28
        },
        {
          "output_type": "display_data",
          "data": {
            "text/plain": [
              "<Figure size 576x432 with 1 Axes>"
            ],
            "image/png": "[encoded data removed]"
          },
          "metadata": {
            "needs_background": "light"
          }
        }
      ]
    },
    {
      "cell_type": "markdown",
      "source": [
        "0 --> Healty Heart\n",
        "1 --> Defective Heart"
      ],
      "metadata": {
        "id": "TdB6k2LrLPuX"
      }
    },
    {
      "cell_type": "markdown",
      "source": [
        "Splitting the Features and Target"
      ],
      "metadata": {
        "id": "1DgIhms4Leul"
      }
    },
    {
      "cell_type": "code",
      "source": [
        "X = heart_data.drop(columns='target')\n",
        "Y = heart_data['target']"
      ],
      "metadata": {
        "id": "ueq3L_mrK5_W"
      },
      "execution_count": 29,
      "outputs": []
    },
    {
      "cell_type": "code",
      "source": [
        "print(X)"
      ],
      "metadata": {
        "colab": {
          "base_uri": "https://localhost:8080/"
        },
        "id": "4SadHyuXMILd",
        "outputId": "d85342a2-e534-4ba6-ba3f-74607f97ed42"
      },
      "execution_count": 30,
      "outputs": [
        {
          "output_type": "stream",
          "name": "stdout",
          "text": [
            "      age  sex  cp  trestbps  chol  fbs  restecg  thalach  exang  oldpeak  \\\n",
            "0      52    1   0       125   212    0        1      168      0      1.0   \n",
            "1      53    1   0       140   203    1        0      155      1      3.1   \n",
            "2      70    1   0       145   174    0        1      125      1      2.6   \n",
            "3      61    1   0       148   203    0        1      161      0      0.0   \n",
            "4      62    0   0       138   294    1        1      106      0      1.9   \n",
            "...   ...  ...  ..       ...   ...  ...      ...      ...    ...      ...   \n",
            "1020   59    1   1       140   221    0        1      164      1      0.0   \n",
            "1021   60    1   0       125   258    0        0      141      1      2.8   \n",
            "1022   47    1   0       110   275    0        0      118      1      1.0   \n",
            "1023   50    0   0       110   254    0        0      159      0      0.0   \n",
            "1024   54    1   0       120   188    0        1      113      0      1.4   \n",
            "\n",
            "      slope  ca  thal  \n",
            "0         2   2     3  \n",
            "1         0   0     3  \n",
            "2         0   0     3  \n",
            "3         2   1     3  \n",
            "4         1   3     2  \n",
            "...     ...  ..   ...  \n",
            "1020      2   0     2  \n",
            "1021      1   1     3  \n",
            "1022      1   1     2  \n",
            "1023      2   0     2  \n",
            "1024      1   1     3  \n",
            "\n",
            "[1025 rows x 13 columns]\n"
          ]
        }
      ]
    },
    {
      "cell_type": "code",
      "source": [
        "print(Y)"
      ],
      "metadata": {
        "colab": {
          "base_uri": "https://localhost:8080/"
        },
        "id": "lho0gNF8MNa4",
        "outputId": "30d0143f-759d-4f8a-ee9d-5144b283a08e"
      },
      "execution_count": 31,
      "outputs": [
        {
          "output_type": "stream",
          "name": "stdout",
          "text": [
            "0       0\n",
            "1       0\n",
            "2       0\n",
            "3       0\n",
            "4       0\n",
            "       ..\n",
            "1020    1\n",
            "1021    0\n",
            "1022    0\n",
            "1023    1\n",
            "1024    0\n",
            "Name: target, Length: 1025, dtype: int64\n"
          ]
        }
      ]
    },
    {
      "cell_type": "markdown",
      "source": [
        "Splitting the data into Training data & Test data"
      ],
      "metadata": {
        "id": "Cd5K17XVMi6k"
      }
    },
    {
      "cell_type": "code",
      "source": [
        "X_train, X_test, Y_train, Y_test = train_test_split(X, Y, test_size = 0.2, random_state = 2)"
      ],
      "metadata": {
        "id": "Cob8E9feMVvv"
      },
      "execution_count": 32,
      "outputs": []
    },
    {
      "cell_type": "code",
      "source": [
        "print(X.shape, X_train.shape, X_test.shape)"
      ],
      "metadata": {
        "colab": {
          "base_uri": "https://localhost:8080/"
        },
        "id": "7fAE50uiNnN8",
        "outputId": "5c8d4db7-8558-42ab-8381-242e8792ac32"
      },
      "execution_count": 33,
      "outputs": [
        {
          "output_type": "stream",
          "name": "stdout",
          "text": [
            "(1025, 13) (820, 13) (205, 13)\n"
          ]
        }
      ]
    },
    {
      "cell_type": "markdown",
      "source": [
        "Model Training"
      ],
      "metadata": {
        "id": "_SvZmuHDOHTK"
      }
    },
    {
      "cell_type": "markdown",
      "source": [
        "Logistic Regression"
      ],
      "metadata": {
        "id": "cLySEjnIOP0K"
      }
    },
    {
      "cell_type": "code",
      "source": [
        "model = LogisticRegression()"
      ],
      "metadata": {
        "id": "o9OZb8f0N-Ki"
      },
      "execution_count": 34,
      "outputs": []
    },
    {
      "cell_type": "code",
      "source": [
        "# training with Logistic Regression model with Training Data\n",
        "model.fit(X_train, Y_train)"
      ],
      "metadata": {
        "colab": {
          "base_uri": "https://localhost:8080/"
        },
        "id": "QTdRe8oQOXn5",
        "outputId": "1008cef6-446c-4ae8-ce68-e14a0a404ad2"
      },
      "execution_count": 35,
      "outputs": [
        {
          "output_type": "execute_result",
          "data": {
            "text/plain": [
              "LogisticRegression()"
            ]
          },
          "metadata": {},
          "execution_count": 35
        }
      ]
    },
    {
      "cell_type": "markdown",
      "source": [
        "Model Evaluation"
      ],
      "metadata": {
        "id": "folgbtLVPJth"
      }
    },
    {
      "cell_type": "markdown",
      "source": [
        "Accuracy Score"
      ],
      "metadata": {
        "id": "SZZb6ZVyPPLe"
      }
    },
    {
      "cell_type": "code",
      "source": [
        "# accuracy on training data\n",
        "X_train_prediction = model.predict(X_train)\n",
        "training_data_accuracy = accuracy_score(X_train_prediction, Y_train)"
      ],
      "metadata": {
        "id": "XweudfpmPHRR"
      },
      "execution_count": 36,
      "outputs": []
    },
    {
      "cell_type": "code",
      "source": [
        "print('Accuracy on Traing Data : ', training_data_accuracy)"
      ],
      "metadata": {
        "colab": {
          "base_uri": "https://localhost:8080/"
        },
        "id": "C-GOvP_iPtk4",
        "outputId": "af59e577-4ef9-460e-c639-02df4db489b5"
      },
      "execution_count": 37,
      "outputs": [
        {
          "output_type": "stream",
          "name": "stdout",
          "text": [
            "Accuracy on Traing Data :  0.8548780487804878\n"
          ]
        }
      ]
    },
    {
      "cell_type": "code",
      "source": [
        "# accuracy on test data\n",
        "X_test_prediction = model.predict(X_test)\n",
        "test_data_accuracy = accuracy_score(X_test_prediction, Y_test)"
      ],
      "metadata": {
        "id": "eGDTP7VhZ2JL"
      },
      "execution_count": 38,
      "outputs": []
    },
    {
      "cell_type": "code",
      "source": [
        "print('Accuracy on Test Data : ', test_data_accuracy)"
      ],
      "metadata": {
        "colab": {
          "base_uri": "https://localhost:8080/"
        },
        "id": "iclZWtYiaiqh",
        "outputId": "626bd952-b8eb-4eca-f20a-6747064274a4"
      },
      "execution_count": 39,
      "outputs": [
        {
          "output_type": "stream",
          "name": "stdout",
          "text": [
            "Accuracy on Test Data :  0.8536585365853658\n"
          ]
        }
      ]
    },
    {
      "cell_type": "markdown",
      "source": [
        "Building a Predictive System"
      ],
      "metadata": {
        "id": "wRFIta77b1eU"
      }
    },
    {
      "cell_type": "code",
      "source": [
        "# taking user inputs\n",
        "name = input(\"Enter the name of the patient = \")\n",
        "print()\n",
        "\n",
        "age = input(\"Enter the age in years = \")\n",
        "print()\n",
        "\n",
        "sex = input(\"Enter the gender (1-> male, 0-> female) = \")\n",
        "print()\n",
        "\n",
        "cp = input(\"Enter the chest pain type (4 values from 0-3) = \")\n",
        "print()\n",
        "\n",
        "trestbps = input(\"Enter the resting blood pressure (in mm Hg on admission to the hospital) = \")\n",
        "print()\n",
        "\n",
        "chol = input(\"Enter the serum cholestrol in mg/dl = \")\n",
        "print()\n",
        "\n",
        "fbs = input(\"Enter the fasting blood sugar &gt; 120 mg/dl (1 -> true; 0 -> false) = \")\n",
        "print()\n",
        "\n",
        "restecg = input(\"Enter the resting electrocardiographic results = \")\n",
        "print()\n",
        "\n",
        "thalach = input(\"Enter the maximum heart rate achieved = \")\n",
        "print()\n",
        "\n",
        "exang = input(\"Enter the exercise induced angina (1 -> yes; 0 -> no) = \")\n",
        "print()\n",
        "\n",
        "oldpeak = input(\"Enter the ST depression induced by exercise relative to rest = \")\n",
        "print()\n",
        "\n",
        "slope = input(\"Enter the the slope of the peak exercise ST segment = \")\n",
        "print()\n",
        "\n",
        "ca = input(\"Enter the number of major vessels (0-3) colored by flourosopy = \")\n",
        "print()\n",
        "\n",
        "thal = input(\"Enter the thal (1 -> normal; 2 -> fixed defect; 3 -> reversable defect) = \")\n",
        "print()"
      ],
      "metadata": {
        "colab": {
          "base_uri": "https://localhost:8080/"
        },
        "id": "ARDx8z5ydvw3",
        "outputId": "63731faa-30e0-423d-fa2c-f395a6ea0536"
      },
      "execution_count": 40,
      "outputs": [
        {
          "output_type": "stream",
          "name": "stdout",
          "text": [
            "Enter the name of the patient = Adam Ken\n",
            "\n",
            "Enter the age in years = 67\n",
            "\n",
            "Enter the gender (1-> male, 0-> female) = 0\n",
            "\n",
            "Enter the chest pain type (4 values from 0-3) = 0\n",
            "\n",
            "Enter the resting blood pressure (in mm Hg on admission to the hospital) = 106\n",
            "\n",
            "Enter the serum cholestrol in mg/dl = 223\n",
            "\n",
            "Enter the fasting blood sugar &gt; 120 mg/dl (1 -> true; 0 -> false) = 0\n",
            "\n",
            "Enter the resting electrocardiographic results = 1\n",
            "\n",
            "Enter the maximum heart rate achieved = 142\n",
            "\n",
            "Enter the exercise induced angina (1 -> yes; 0 -> no) = 0\n",
            "\n",
            "Enter the ST depression induced by exercise relative to rest = 0.3\n",
            "\n",
            "Enter the the slope of the peak exercise ST segment = 2\n",
            "\n",
            "Enter the number of major vessels (0-3) colored by flourosopy = 2\n",
            "\n",
            "Enter the thal (1 -> normal; 2 -> fixed defect; 3 -> reversable defect) = 2\n",
            "\n"
          ]
        }
      ]
    },
    {
      "cell_type": "code",
      "source": [
        "input_data = (age, sex, cp, trestbps, chol, fbs, restecg, thalach, exang, oldpeak, slope, ca, thal)\n",
        "\n",
        "# change the input data to a numpy array\n",
        "input_data_as_numpy_array = np.asarray(input_data)\n",
        "\n",
        "# reshape the numpy array as we are predicting for only one instance\n",
        "input_data_reshaped = input_data_as_numpy_array.reshape(1,-1)\n",
        "\n",
        "prediction = model.predict(input_data_reshaped)\n",
        "print(prediction)\n",
        "\n",
        "if(prediction[0]==0):\n",
        "  print(name + \" does not have a heart disease\")\n",
        "else:\n",
        "  print(name + \" has a possible heart disease\")"
      ],
      "metadata": {
        "colab": {
          "base_uri": "https://localhost:8080/"
        },
        "id": "32pQ8ICub4S2",
        "outputId": "82187c42-c3e4-43c3-f0f6-83a533a6b2a9"
      },
      "execution_count": 41,
      "outputs": [
        {
          "output_type": "stream",
          "name": "stdout",
          "text": [
            "[1]\n",
            "Adam Ken has a possible heart disease\n"
          ]
        }
      ]
    }
  ]
}